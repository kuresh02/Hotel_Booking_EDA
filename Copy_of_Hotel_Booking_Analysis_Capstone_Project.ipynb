{
  "nbformat": 4,
  "nbformat_minor": 0,
  "metadata": {
    "kernelspec": {
      "display_name": "Python 3",
      "language": "python",
      "name": "python3"
    },
    "language_info": {
      "codemirror_mode": {
        "name": "ipython",
        "version": 3
      },
      "file_extension": ".py",
      "mimetype": "text/x-python",
      "name": "python",
      "nbconvert_exporter": "python",
      "pygments_lexer": "ipython3",
      "version": "3.6.6"
    },
    "colab": {
      "provenance": [],
      "collapsed_sections": [
        "qxWEniRc5SuG",
        "Sjzus2dn8V32",
        "gyb-gRLv8hN2",
        "I9ErpQv78xK3",
        "jeKybyMY9uo7",
        "cvB8Vbt_i97H",
        "hI2bTImCjI2e",
        "i7YdoslhjSsP",
        "4UlotYq6jXW3",
        "zjABEme5jfOP",
        "tFu8hzNQju4n",
        "sNz9S5HKj5eQ",
        "ByyoQw_Gj73f",
        "ZQtzjR9Yj8vv",
        "c7ueBTLoj9ZP",
        "CRT_NZN-pLQS",
        "nyz3n4h1qsvf",
        "4drbymDaAh1F",
        "nKDi6ROGIUYz",
        "_-fzIAlfQIgU",
        "8InuFtwdQXi0",
        "l4pJGFkInQN6",
        "dUdiVziv3jwQ",
        "Fvzy_Y-u9vxy",
        "rqRu10kzGnCJ",
        "z4JOAmVO1Ki-",
        "WHuJ_kmgqD-s",
        "LeV1ZHPnt4tb",
        "r3BzFb1iuLWE",
        "aMyY6DHsdEC9"
      ],
      "include_colab_link": true
    }
  },
  "cells": [
    {
      "cell_type": "markdown",
      "metadata": {
        "id": "view-in-github",
        "colab_type": "text"
      },
      "source": [
        "<a href=\"https://colab.research.google.com/github/kuresh02/Hotel_Booking_EDA/blob/main/Copy_of_Hotel_Booking_Analysis_Capstone_Project.ipynb\" target=\"_parent\"><img src=\"https://colab.research.google.com/assets/colab-badge.svg\" alt=\"Open In Colab\"/></a>"
      ]
    },
    {
      "cell_type": "markdown",
      "metadata": {
        "id": "Y06xIdG26kRF"
      },
      "source": [
        "## <b> Have you ever wondered when the best time of year to book a hotel room is? Or the optimal length of stay in order to get the best daily rate? What if you wanted to predict whether or not a hotel was likely to receive a disproportionately high number of special requests? This hotel booking dataset can help you explore those questions!\n",
        "\n",
        "## <b>This data set contains booking information for a city hotel and a resort hotel, and includes information such as when the booking was made, length of stay, the number of adults, children, and/or babies, and the number of available parking spaces, among other things. All personally identifying information has been removed from the data. </b>\n",
        "\n",
        "## <b> Explore and analyze the data to discover important factors that govern the bookings. </b>"
      ]
    },
    {
      "cell_type": "markdown",
      "source": [
        "\n",
        "# Importing_Libraries"
      ],
      "metadata": {
        "id": "w7MCtSPXtuVD"
      }
    },
    {
      "cell_type": "code",
      "source": [
        "\n",
        "# Importing python libraries\n",
        "import pandas as pd\n",
        "import numpy as np\n",
        "import matplotlib\n",
        "import matplotlib.pyplot as plt\n",
        "import seaborn as sns\n",
        "from tabulate import tabulate\n",
        "import folium\n",
        "import plotly.express as px\n",
        "#It is a magic function that renders the figure in a notebook\n",
        "%matplotlib inline "
      ],
      "metadata": {
        "id": "DsUyAzmzozLh"
      },
      "execution_count": 6,
      "outputs": []
    },
    {
      "cell_type": "markdown",
      "source": [
        "# Mounting_Drive"
      ],
      "metadata": {
        "id": "yk3QxZp5zV9W"
      }
    },
    {
      "cell_type": "code",
      "source": [
        "#mounting driver from google\n",
        "from google.colab import drive\n",
        "drive.mount('/content/drive')"
      ],
      "metadata": {
        "id": "OFPHCTq_d9cR",
        "colab": {
          "base_uri": "https://localhost:8080/"
        },
        "outputId": "1db65be4-62dc-470d-93ae-b11bcf56096a"
      },
      "execution_count": 10,
      "outputs": [
        {
          "output_type": "stream",
          "name": "stdout",
          "text": [
            "Mounted at /content/drive\n"
          ]
        }
      ]
    },
    {
      "cell_type": "markdown",
      "source": [
        "# Csv_File_Location"
      ],
      "metadata": {
        "id": "krycp8sS1nqq"
      }
    },
    {
      "cell_type": "code",
      "source": [
        "#csv file location\n",
        "data_file_path=\"/content/drive/MyDrive/Capstone_Project/Capstone_Project_01_Exploratory Data Analysis/Project_Colab_NoteBook_&_Data/Data/Hotel Bookings.csv\"\n"
      ],
      "metadata": {
        "id": "rs2hc_8d1h7z"
      },
      "execution_count": 11,
      "outputs": []
    },
    {
      "cell_type": "markdown",
      "source": [
        "# Reading_Data_From_Csv_File"
      ],
      "metadata": {
        "id": "OTx1P8dQ2F3C"
      }
    },
    {
      "cell_type": "code",
      "source": [
        "# reading csv file\n",
        "\n",
        "df= pd.read_csv(data_file_path)   \n",
        "df.shape # understanding the total row and column by size"
      ],
      "metadata": {
        "id": "XHss-u4H2Saf",
        "colab": {
          "base_uri": "https://localhost:8080/"
        },
        "outputId": "e175dc08-0b93-4132-e0ff-ff39b9501554"
      },
      "execution_count": 12,
      "outputs": [
        {
          "output_type": "execute_result",
          "data": {
            "text/plain": [
              "(119390, 32)"
            ]
          },
          "metadata": {},
          "execution_count": 12
        }
      ]
    },
    {
      "cell_type": "markdown",
      "source": [
        "# Checking_Data_Frame_Shape(Row and Columns)"
      ],
      "metadata": {
        "id": "qxWEniRc5SuG"
      }
    },
    {
      "cell_type": "code",
      "source": [
        "#checking the number of rows and column numbers\n",
        "print(type(df))\n",
        "print(f' Our DataFrame have total {df.shape[0]} of rows.')\n",
        "print(f' Our DataFrame have total {df.shape[1]} of columns.')"
      ],
      "metadata": {
        "id": "dtMM_oLW7JyH",
        "colab": {
          "base_uri": "https://localhost:8080/",
          "height": 217
        },
        "outputId": "4260184e-d46f-461b-b9b7-7b521c11b97b"
      },
      "execution_count": 9,
      "outputs": [
        {
          "output_type": "error",
          "ename": "NameError",
          "evalue": "ignored",
          "traceback": [
            "\u001b[0;31m---------------------------------------------------------------------------\u001b[0m",
            "\u001b[0;31mNameError\u001b[0m                                 Traceback (most recent call last)",
            "\u001b[0;32m<ipython-input-9-7d32b3843298>\u001b[0m in \u001b[0;36m<module>\u001b[0;34m\u001b[0m\n\u001b[1;32m      1\u001b[0m \u001b[0;31m#checking the number of rows and column numbers\u001b[0m\u001b[0;34m\u001b[0m\u001b[0;34m\u001b[0m\u001b[0;34m\u001b[0m\u001b[0m\n\u001b[0;32m----> 2\u001b[0;31m \u001b[0mprint\u001b[0m\u001b[0;34m(\u001b[0m\u001b[0mtype\u001b[0m\u001b[0;34m(\u001b[0m\u001b[0mdf\u001b[0m\u001b[0;34m)\u001b[0m\u001b[0;34m)\u001b[0m\u001b[0;34m\u001b[0m\u001b[0;34m\u001b[0m\u001b[0m\n\u001b[0m\u001b[1;32m      3\u001b[0m \u001b[0mprint\u001b[0m\u001b[0;34m(\u001b[0m\u001b[0;34mf' Our DataFrame have total {df.shape[0]} of rows.'\u001b[0m\u001b[0;34m)\u001b[0m\u001b[0;34m\u001b[0m\u001b[0;34m\u001b[0m\u001b[0m\n\u001b[1;32m      4\u001b[0m \u001b[0mprint\u001b[0m\u001b[0;34m(\u001b[0m\u001b[0;34mf' Our DataFrame have total {df.shape[1]} of columns.'\u001b[0m\u001b[0;34m)\u001b[0m\u001b[0;34m\u001b[0m\u001b[0;34m\u001b[0m\u001b[0m\n",
            "\u001b[0;31mNameError\u001b[0m: name 'df' is not defined"
          ]
        }
      ]
    },
    {
      "cell_type": "markdown",
      "source": [
        "# DataFrame_Exploration"
      ],
      "metadata": {
        "id": "8_trC_lh72y4"
      }
    },
    {
      "cell_type": "markdown",
      "source": [
        "### Checking_1st_five_row"
      ],
      "metadata": {
        "id": "Sjzus2dn8V32"
      }
    },
    {
      "cell_type": "code",
      "source": [
        "# Checking first 5 rows\n",
        "df.head() # by default it show 5 number of row data"
      ],
      "metadata": {
        "id": "3TwBjCdn78MD"
      },
      "execution_count": null,
      "outputs": []
    },
    {
      "cell_type": "markdown",
      "source": [
        "### Checking_last_five_row"
      ],
      "metadata": {
        "id": "gyb-gRLv8hN2"
      }
    },
    {
      "cell_type": "code",
      "source": [
        "# Checking last 5 rows\n",
        "df.tail() # by default it show 5 number of row data"
      ],
      "metadata": {
        "id": "660HU3lV8UBy"
      },
      "execution_count": null,
      "outputs": []
    },
    {
      "cell_type": "markdown",
      "source": [
        "### Summary_statistics_of_the_Series_or_Dataframe"
      ],
      "metadata": {
        "id": "I9ErpQv78xK3"
      }
    },
    {
      "cell_type": "code",
      "source": [
        "#Showing at the min, max values,mean values etc for each and every columns. \n",
        "df.describe(include='all') # NAN values for mean,25% ,50%,75%,max indicates those are categorical columns."
      ],
      "metadata": {
        "id": "achB4hn78yEf"
      },
      "execution_count": null,
      "outputs": []
    },
    {
      "cell_type": "markdown",
      "source": [
        "### Column_with_data_types_with_non_null_entries"
      ],
      "metadata": {
        "id": "jeKybyMY9uo7"
      }
    },
    {
      "cell_type": "code",
      "source": [
        "df.info()"
      ],
      "metadata": {
        "id": "V5X5fT0L9ufW"
      },
      "execution_count": null,
      "outputs": []
    },
    {
      "cell_type": "markdown",
      "source": [
        "## ------------------Finding_Name_Of_Column-----------------------"
      ],
      "metadata": {
        "id": "FDNwWStmaA_v"
      }
    },
    {
      "cell_type": "code",
      "source": [
        "#Create a new copy of dataframe\n",
        "df_copy=df.copy()\n",
        "#print the dataframe Column\n",
        "print(list(df_copy.columns))\n"
      ],
      "metadata": {
        "id": "Y2YWeP4AaOIc",
        "colab": {
          "base_uri": "https://localhost:8080/"
        },
        "outputId": "ade6c937-9d50-45b0-ab58-9e3cbe7626c6"
      },
      "execution_count": 13,
      "outputs": [
        {
          "output_type": "stream",
          "name": "stdout",
          "text": [
            "['hotel', 'is_canceled', 'lead_time', 'arrival_date_year', 'arrival_date_month', 'arrival_date_week_number', 'arrival_date_day_of_month', 'stays_in_weekend_nights', 'stays_in_week_nights', 'adults', 'children', 'babies', 'meal', 'country', 'market_segment', 'distribution_channel', 'is_repeated_guest', 'previous_cancellations', 'previous_bookings_not_canceled', 'reserved_room_type', 'assigned_room_type', 'booking_changes', 'deposit_type', 'agent', 'company', 'days_in_waiting_list', 'customer_type', 'adr', 'required_car_parking_spaces', 'total_of_special_requests', 'reservation_status', 'reservation_status_date']\n"
          ]
        }
      ]
    },
    {
      "cell_type": "markdown",
      "source": [
        "### 1) We have to understand what are the  column present in our dataframe\n",
        "### 2) From that we can easy understand about our data dataframe by see unique value by every individual."
      ],
      "metadata": {
        "id": "udjCe92xcBMu"
      }
    },
    {
      "cell_type": "markdown",
      "source": [
        "### Types_Of_Hotel"
      ],
      "metadata": {
        "id": "cvB8Vbt_i97H"
      }
    },
    {
      "cell_type": "code",
      "source": [
        "# types of hotel\n",
        "df_copy['hotel'].unique()"
      ],
      "metadata": {
        "id": "R_b8coLZdPLv",
        "colab": {
          "base_uri": "https://localhost:8080/"
        },
        "outputId": "8000fcd5-5615-4262-d745-82363cb35e92"
      },
      "execution_count": null,
      "outputs": [
        {
          "output_type": "execute_result",
          "data": {
            "text/plain": [
              "array(['Resort Hotel', 'City Hotel'], dtype=object)"
            ]
          },
          "metadata": {},
          "execution_count": 199
        }
      ]
    },
    {
      "cell_type": "markdown",
      "source": [
        "### Canceled_Types"
      ],
      "metadata": {
        "id": "hI2bTImCjI2e"
      }
    },
    {
      "cell_type": "code",
      "source": [
        "# canceled or not \n",
        "df_copy['is_canceled'].unique()"
      ],
      "metadata": {
        "id": "Wc6vADR8dZuG"
      },
      "execution_count": null,
      "outputs": []
    },
    {
      "cell_type": "markdown",
      "source": [
        "### Arrival_Date_Year"
      ],
      "metadata": {
        "id": "i7YdoslhjSsP"
      }
    },
    {
      "cell_type": "code",
      "source": [
        "# arrival date years\n",
        "df_copy['arrival_date_year'].unique()"
      ],
      "metadata": {
        "id": "1Xq5Qz0Cdv6u"
      },
      "execution_count": null,
      "outputs": []
    },
    {
      "cell_type": "markdown",
      "source": [
        "### Meal_Type"
      ],
      "metadata": {
        "id": "4UlotYq6jXW3"
      }
    },
    {
      "cell_type": "code",
      "source": [
        "# types of meal \n",
        "df_copy['meal'].unique()"
      ],
      "metadata": {
        "id": "85jh9xy2d2N2"
      },
      "execution_count": null,
      "outputs": []
    },
    {
      "cell_type": "markdown",
      "source": [
        "### Country_Name"
      ],
      "metadata": {
        "id": "zjABEme5jfOP"
      }
    },
    {
      "cell_type": "code",
      "source": [
        "# types of country \n",
        "df_copy['country'].unique()"
      ],
      "metadata": {
        "id": "04Sq8RGUeM8e"
      },
      "execution_count": null,
      "outputs": []
    },
    {
      "cell_type": "markdown",
      "source": [
        "### Types_Of_Market_Sagment"
      ],
      "metadata": {
        "id": "tFu8hzNQju4n"
      }
    },
    {
      "cell_type": "code",
      "source": [
        "# types of market_segment \n",
        "df_copy['market_segment'].unique()"
      ],
      "metadata": {
        "id": "Ai_y-t5TeXrv"
      },
      "execution_count": null,
      "outputs": []
    },
    {
      "cell_type": "markdown",
      "source": [
        "### Types_Of_Distrubution_Channel"
      ],
      "metadata": {
        "id": "sNz9S5HKj5eQ"
      }
    },
    {
      "cell_type": "code",
      "source": [
        "# types of distribution_channel \n",
        "df_copy['distribution_channel'].unique()"
      ],
      "metadata": {
        "colab": {
          "base_uri": "https://localhost:8080/"
        },
        "id": "y6IAW712ewIO",
        "outputId": "6b14b2a4-1292-4dcc-dadb-0d9b9b1c662a"
      },
      "execution_count": null,
      "outputs": [
        {
          "output_type": "execute_result",
          "data": {
            "text/plain": [
              "array(['Direct', 'Corporate', 'TA/TO', 'Undefined', 'GDS'], dtype=object)"
            ]
          },
          "metadata": {},
          "execution_count": 13
        }
      ]
    },
    {
      "cell_type": "markdown",
      "source": [
        "### Types_Of_Rooms"
      ],
      "metadata": {
        "id": "ByyoQw_Gj73f"
      }
    },
    {
      "cell_type": "code",
      "source": [
        "# types of reserved_room_type \n",
        "first_set=set(df_copy['reserved_room_type'].unique()) # types of reserved_room_type \n",
        "\n",
        "second_set=set(df_copy['assigned_room_type'].unique()) # types of assigned_room_type \n",
        "\n",
        "Total_room_type=first_set.union(second_set) \n",
        "print(sorted(Total_room_type)) #types of room preset for Hotel Booking"
      ],
      "metadata": {
        "id": "e228SID4evwe",
        "colab": {
          "base_uri": "https://localhost:8080/"
        },
        "outputId": "24caa8a5-03b0-4e40-d84a-1374186e0897"
      },
      "execution_count": null,
      "outputs": [
        {
          "output_type": "stream",
          "name": "stdout",
          "text": [
            "['A', 'B', 'C', 'D', 'E', 'F', 'G', 'H', 'I', 'K', 'L', 'P']\n"
          ]
        }
      ]
    },
    {
      "cell_type": "markdown",
      "source": [
        "### Deposit_Type"
      ],
      "metadata": {
        "id": "ZQtzjR9Yj8vv"
      }
    },
    {
      "cell_type": "code",
      "source": [
        "# types of deposit_type available\n",
        "(df_copy['deposit_type'].unique()) # types of deposit_type "
      ],
      "metadata": {
        "id": "h3V2sU7piBYL",
        "colab": {
          "base_uri": "https://localhost:8080/"
        },
        "outputId": "a698acc3-eb88-404c-d27d-43b9f9c7e87e"
      },
      "execution_count": null,
      "outputs": [
        {
          "output_type": "execute_result",
          "data": {
            "text/plain": [
              "array(['No Deposit', 'Refundable', 'Non Refund'], dtype=object)"
            ]
          },
          "metadata": {},
          "execution_count": 190
        }
      ]
    },
    {
      "cell_type": "markdown",
      "source": [
        "### Distribution_Channel_Type"
      ],
      "metadata": {
        "id": "c7ueBTLoj9ZP"
      }
    },
    {
      "cell_type": "code",
      "source": [
        "# types of distribution_channel available\n",
        "\n",
        "df_copy['distribution_channel'].unique()"
      ],
      "metadata": {
        "colab": {
          "base_uri": "https://localhost:8080/"
        },
        "id": "8jaLeWInikou",
        "outputId": "c29b76db-6b84-4607-e11b-1c4950628d20"
      },
      "execution_count": null,
      "outputs": [
        {
          "output_type": "execute_result",
          "data": {
            "text/plain": [
              "array(['Direct', 'Corporate', 'TA/TO', 'Undefined', 'GDS'], dtype=object)"
            ]
          },
          "metadata": {},
          "execution_count": 15
        }
      ]
    },
    {
      "cell_type": "markdown",
      "source": [
        "# Clearing Data Process"
      ],
      "metadata": {
        "id": "vZ01MBtElJmw"
      }
    },
    {
      "cell_type": "markdown",
      "source": [
        "###The most important steps before going for the  EDA(Exploratory Data Analysis)\n",
        "###As we know clearing data will remove the conflict between any duplicate data/row.\n",
        "##We have to do the above data cleaning process through the following steps:-\n",
        "###1) Remove all duplicate rows.\n",
        "###2) Missing values finding and replacing with proper values\n",
        "###3) Change required column data types from string to appropriate datatypes.\n",
        "###4)  Adding some required new columns."
      ],
      "metadata": {
        "id": "7bbgnWDDlZIX"
      }
    },
    {
      "cell_type": "markdown",
      "source": [
        "## </b>Step 1---> Remove all duplicate rows</b>."
      ],
      "metadata": {
        "id": "CRT_NZN-pLQS"
      }
    },
    {
      "cell_type": "code",
      "source": [
        "#total number to duplicated rows and number of columns present in dataframe\n",
        "df_duplicate_value=(df_copy[df_copy.duplicated()].shape)\n",
        "print(df_duplicate_value)\n",
        "\n"
      ],
      "metadata": {
        "colab": {
          "base_uri": "https://localhost:8080/"
        },
        "id": "zk-2v91qpKMh",
        "outputId": "d965b0cc-7e44-4070-8cb4-07023ce7fa76"
      },
      "execution_count": null,
      "outputs": [
        {
          "output_type": "stream",
          "name": "stdout",
          "text": [
            "(31994, 32)\n"
          ]
        }
      ]
    },
    {
      "cell_type": "code",
      "source": [
        "# checking for the duplicate rows\n",
        "df_copy.duplicated().value_counts()   #true means duplicate rows"
      ],
      "metadata": {
        "colab": {
          "base_uri": "https://localhost:8080/"
        },
        "id": "66ICN4D-3Vr4",
        "outputId": "95d11d5c-64cb-4c75-abdc-c954045851b2"
      },
      "execution_count": null,
      "outputs": [
        {
          "output_type": "execute_result",
          "data": {
            "text/plain": [
              "False    87396\n",
              "True     31994\n",
              "dtype: int64"
            ]
          },
          "metadata": {},
          "execution_count": 16
        }
      ]
    },
    {
      "cell_type": "code",
      "source": [
        "# Plot a graph with respect to duplicate value\n",
        "plt.figure(figsize=(5,8))\n",
        "\n",
        "sns.set_theme(style=\"whitegrid\")\n",
        "sns.countplot(x=df_copy.duplicated())\n",
        "\n",
        "no_of_duplicate_row=(df_duplicate_value[0])\n",
        "print(f\"Duplicate Row Number {no_of_duplicate_row}\")\n"
      ],
      "metadata": {
        "colab": {
          "base_uri": "https://localhost:8080/",
          "height": 502
        },
        "id": "7ETxMObf3c94",
        "outputId": "c34f23be-5cd6-4ed8-ad6f-f25bf6a9011d"
      },
      "execution_count": null,
      "outputs": [
        {
          "output_type": "stream",
          "name": "stdout",
          "text": [
            "Duplicate Row Number 31994\n"
          ]
        },
        {
          "output_type": "display_data",
          "data": {
            "text/plain": [
              "<Figure size 360x576 with 1 Axes>"
            ],
            "image/png": "[encoded data removed]"
          },
          "metadata": {
            "needs_background": "light"
          }
        }
      ]
    },
    {
      "cell_type": "markdown",
      "source": [
        "So we have 31994 duplicate rows in our data. So we will drop the duplicate rows from our data by drop the row "
      ],
      "metadata": {
        "id": "N7shcT8U3l1i"
      }
    },
    {
      "cell_type": "code",
      "source": [
        "# Dropping the duplicate values\n",
        "df_copy.drop_duplicates(inplace = True)"
      ],
      "metadata": {
        "id": "bSkkjQaoqTZI"
      },
      "execution_count": null,
      "outputs": []
    },
    {
      "cell_type": "code",
      "source": [
        "# New row size after drop of duplicate row\n",
        "df_copy.shape"
      ],
      "metadata": {
        "colab": {
          "base_uri": "https://localhost:8080/"
        },
        "id": "aMiiaoDrqj05",
        "outputId": "e62665bd-2b87-4779-ec2e-d0aafaabb9eb"
      },
      "execution_count": null,
      "outputs": [
        {
          "output_type": "execute_result",
          "data": {
            "text/plain": [
              "(87396, 32)"
            ]
          },
          "metadata": {},
          "execution_count": 19
        }
      ]
    },
    {
      "cell_type": "markdown",
      "source": [
        "## </b>Step 2---> Missing values finding and replacing with proper values</b>."
      ],
      "metadata": {
        "id": "nyz3n4h1qsvf"
      }
    },
    {
      "cell_type": "code",
      "source": [
        "## Check any Null value present in columns\n",
        "df_copy.isnull().sum().sort_values(ascending=False)[:6].reset_index().rename(columns={'index':'Columns',0:'Null values'})"
      ],
      "metadata": {
        "colab": {
          "base_uri": "https://localhost:8080/",
          "height": 237
        },
        "id": "nfW-tzVVqsfv",
        "outputId": "9450b3b0-ecfe-4734-f47d-5b5bb1470529"
      },
      "execution_count": null,
      "outputs": [
        {
          "output_type": "execute_result",
          "data": {
            "text/plain": [
              "              Columns  Null values\n",
              "0             company        82137\n",
              "1               agent        12193\n",
              "2             country          452\n",
              "3            children            4\n",
              "4  reserved_room_type            0\n",
              "5  assigned_room_type            0"
            ],
            "text/html": [
              "\n",
              "  <div id=\"df-61125982-9e66-4358-8f32-c2b0e12ae07f\">\n",
              "    <div class=\"colab-df-container\">\n",
              "      <div>\n",
              "<style scoped>\n",
              "    .dataframe tbody tr th:only-of-type {\n",
              "        vertical-align: middle;\n",
              "    }\n",
              "\n",
              "    .dataframe tbody tr th {\n",
              "        vertical-align: top;\n",
              "    }\n",
              "\n",
              "    .dataframe thead th {\n",
              "        text-align: right;\n",
              "    }\n",
              "</style>\n",
              "<table border=\"1\" class=\"dataframe\">\n",
              "  <thead>\n",
              "    <tr style=\"text-align: right;\">\n",
              "      <th></th>\n",
              "      <th>Columns</th>\n",
              "      <th>Null values</th>\n",
              "    </tr>\n",
              "  </thead>\n",
              "  <tbody>\n",
              "    <tr>\n",
              "      <th>0</th>\n",
              "      <td>company</td>\n",
              "      <td>82137</td>\n",
              "    </tr>\n",
              "    <tr>\n",
              "      <th>1</th>\n",
              "      <td>agent</td>\n",
              "      <td>12193</td>\n",
              "    </tr>\n",
              "    <tr>\n",
              "      <th>2</th>\n",
              "      <td>country</td>\n",
              "      <td>452</td>\n",
              "    </tr>\n",
              "    <tr>\n",
              "      <th>3</th>\n",
              "      <td>children</td>\n",
              "      <td>4</td>\n",
              "    </tr>\n",
              "    <tr>\n",
              "      <th>4</th>\n",
              "      <td>reserved_room_type</td>\n",
              "      <td>0</td>\n",
              "    </tr>\n",
              "    <tr>\n",
              "      <th>5</th>\n",
              "      <td>assigned_room_type</td>\n",
              "      <td>0</td>\n",
              "    </tr>\n",
              "  </tbody>\n",
              "</table>\n",
              "</div>\n",
              "      <button class=\"colab-df-convert\" onclick=\"convertToInteractive('df-61125982-9e66-4358-8f32-c2b0e12ae07f')\"\n",
              "              title=\"Convert this dataframe to an interactive table.\"\n",
              "              style=\"display:none;\">\n",
              "        \n",
              "  <svg xmlns=\"http://www.w3.org/2000/svg\" height=\"24px\"viewBox=\"0 0 24 24\"\n",
              "       width=\"24px\">\n",
              "    <path d=\"M0 0h24v24H0V0z\" fill=\"none\"/>\n",
              "    <path d=\"M18.56 5.44l.94 2.06.94-2.06 2.06-.94-2.06-.94-.94-2.06-.94 2.06-2.06.94zm-11 1L8.5 8.5l.94-2.06 2.06-.94-2.06-.94L8.5 2.5l-.94 2.06-2.06.94zm10 10l.94 2.06.94-2.06 2.06-.94-2.06-.94-.94-2.06-.94 2.06-2.06.94z\"/><path d=\"M17.41 7.96l-1.37-1.37c-.4-.4-.92-.59-1.43-.59-.52 0-1.04.2-1.43.59L10.3 9.45l-7.72 7.72c-.78.78-.78 2.05 0 2.83L4 21.41c.39.39.9.59 1.41.59.51 0 1.02-.2 1.41-.59l7.78-7.78 2.81-2.81c.8-.78.8-2.07 0-2.86zM5.41 20L4 18.59l7.72-7.72 1.47 1.35L5.41 20z\"/>\n",
              "  </svg>\n",
              "      </button>\n",
              "      \n",
              "  <style>\n",
              "    .colab-df-container {\n",
              "      display:flex;\n",
              "      flex-wrap:wrap;\n",
              "      gap: 12px;\n",
              "    }\n",
              "\n",
              "    .colab-df-convert {\n",
              "      background-color: #E8F0FE;\n",
              "      border: none;\n",
              "      border-radius: 50%;\n",
              "      cursor: pointer;\n",
              "      display: none;\n",
              "      fill: #1967D2;\n",
              "      height: 32px;\n",
              "      padding: 0 0 0 0;\n",
              "      width: 32px;\n",
              "    }\n",
              "\n",
              "    .colab-df-convert:hover {\n",
              "      background-color: #E2EBFA;\n",
              "      box-shadow: 0px 1px 2px rgba(60, 64, 67, 0.3), 0px 1px 3px 1px rgba(60, 64, 67, 0.15);\n",
              "      fill: #174EA6;\n",
              "    }\n",
              "\n",
              "    [theme=dark] .colab-df-convert {\n",
              "      background-color: #3B4455;\n",
              "      fill: #D2E3FC;\n",
              "    }\n",
              "\n",
              "    [theme=dark] .colab-df-convert:hover {\n",
              "      background-color: #434B5C;\n",
              "      box-shadow: 0px 1px 3px 1px rgba(0, 0, 0, 0.15);\n",
              "      filter: drop-shadow(0px 1px 2px rgba(0, 0, 0, 0.3));\n",
              "      fill: #FFFFFF;\n",
              "    }\n",
              "  </style>\n",
              "\n",
              "      <script>\n",
              "        const buttonEl =\n",
              "          document.querySelector('#df-61125982-9e66-4358-8f32-c2b0e12ae07f button.colab-df-convert');\n",
              "        buttonEl.style.display =\n",
              "          google.colab.kernel.accessAllowed ? 'block' : 'none';\n",
              "\n",
              "        async function convertToInteractive(key) {\n",
              "          const element = document.querySelector('#df-61125982-9e66-4358-8f32-c2b0e12ae07f');\n",
              "          const dataTable =\n",
              "            await google.colab.kernel.invokeFunction('convertToInteractive',\n",
              "                                                     [key], {});\n",
              "          if (!dataTable) return;\n",
              "\n",
              "          const docLinkHtml = 'Like what you see? Visit the ' +\n",
              "            '<a target=\"_blank\" href=https://colab.research.google.com/notebooks/data_table.ipynb>data table notebook</a>'\n",
              "            + ' to learn more about interactive tables.';\n",
              "          element.innerHTML = '';\n",
              "          dataTable['output_type'] = 'display_data';\n",
              "          await google.colab.output.renderOutput(dataTable, element);\n",
              "          const docLink = document.createElement('div');\n",
              "          docLink.innerHTML = docLinkHtml;\n",
              "          element.appendChild(docLink);\n",
              "        }\n",
              "      </script>\n",
              "    </div>\n",
              "  </div>\n",
              "  "
            ]
          },
          "metadata": {},
          "execution_count": 20
        }
      ]
    },
    {
      "cell_type": "code",
      "source": [
        "# graphical heat map for all null value in column\n",
        "\n",
        "plt.figure(figsize=(24,10))\n",
        "sns.heatmap(df_copy.isnull(), cbar=False, yticklabels=False,cmap='viridis')\n",
        "plt.xlabel(\"Name Of Columns\")\n",
        "plt.title(\"Places of missing values in column\")"
      ],
      "metadata": {
        "colab": {
          "base_uri": "https://localhost:8080/",
          "height": 816
        },
        "id": "f1D2Zw8w5QJa",
        "outputId": "5af8ba2b-5767-4477-f441-62214dd7158f"
      },
      "execution_count": null,
      "outputs": [
        {
          "output_type": "execute_result",
          "data": {
            "text/plain": [
              "Text(0.5, 1.0, 'Places of missing values in column')"
            ]
          },
          "metadata": {},
          "execution_count": 21
        },
        {
          "output_type": "display_data",
          "data": {
            "text/plain": [
              "<Figure size 1728x720 with 1 Axes>"
            ],
            "image/png": "[encoded data removed]"
          },
          "metadata": {}
        }
      ]
    },
    {
      "cell_type": "markdown",
      "source": [
        "## 1) From above data  we can clearly mark that some people who book rooms are not depends upon any agent or company fpr their booking room.\n",
        "## 2) Here  only 4 Columns have Null value so to make this data a meaning full values we have to remove the Null value  there and replace with 0.\n"
      ],
      "metadata": {
        "id": "4drbymDaAh1F"
      }
    },
    {
      "cell_type": "code",
      "source": [
        "df_copy = df_copy.replace(np.NaN, 0)\n",
        "df_copy.isnull().sum().sort_values(ascending=False)[:6].reset_index().rename(columns={'index':'Columns',int(0):'Null values'})\n",
        "df_copy.head(5)\n"
      ],
      "metadata": {
        "id": "m0RRM66MB5zp"
      },
      "execution_count": null,
      "outputs": []
    },
    {
      "cell_type": "markdown",
      "source": [
        "## Step 3---> Change required column data types from string to appropriate datatypes."
      ],
      "metadata": {
        "id": "nKDi6ROGIUYz"
      }
    },
    {
      "cell_type": "code",
      "source": [
        "# Change  datatype of columns 'children', 'company' and 'agent' from float to int.\n",
        "df_copy[['children', 'agent', 'company']] = df_copy[['children', 'agent','company']].astype('int64')\n",
        "df_copy[\"reservation_status_date\"]=pd.to_datetime(df_copy[\"reservation_status_date\"], format = '%Y-%m-%d')\n",
        "# df_copy['reservation_status_date']=pd.to_datetime(df1['reservation_status_date'], format = '%Y-%m-%d')"
      ],
      "metadata": {
        "id": "JmyW8Wu7Ievb"
      },
      "execution_count": null,
      "outputs": []
    },
    {
      "cell_type": "markdown",
      "source": [
        "# Step 4--->Adding some required new columns."
      ],
      "metadata": {
        "id": "mKLbO4TCPSLJ"
      }
    },
    {
      "cell_type": "markdown",
      "source": [
        "## New Column for Total_Day"
      ],
      "metadata": {
        "id": "_-fzIAlfQIgU"
      }
    },
    {
      "cell_type": "code",
      "source": [
        "# total days staying in hotels\n",
        "df_copy['total_day'] = (df_copy['stays_in_weekend_nights']+df_copy['stays_in_week_nights'])\n",
        "\n"
      ],
      "metadata": {
        "id": "IN_KTWzLPfmt"
      },
      "execution_count": null,
      "outputs": []
    },
    {
      "cell_type": "markdown",
      "source": [
        "## New Column for Total_People"
      ],
      "metadata": {
        "id": "8InuFtwdQXi0"
      }
    },
    {
      "cell_type": "code",
      "source": [
        "# Adding total people total_people = num of adults + children + babies\n",
        "df_copy['total_people'] = df_copy['adults']+df_copy['children']+df_copy['babies']\n",
        "print(df_copy['total_people'])"
      ],
      "metadata": {
        "id": "j2GIq2KEQWtK",
        "colab": {
          "base_uri": "https://localhost:8080/"
        },
        "outputId": "48898535-6575-4a7f-c891-3149d9a065b7"
      },
      "execution_count": 43,
      "outputs": [
        {
          "output_type": "stream",
          "name": "stdout",
          "text": [
            "0         2.0\n",
            "1         2.0\n",
            "2         1.0\n",
            "3         1.0\n",
            "4         2.0\n",
            "         ... \n",
            "119385    2.0\n",
            "119386    3.0\n",
            "119387    2.0\n",
            "119388    2.0\n",
            "119389    2.0\n",
            "Name: total_people, Length: 119390, dtype: float64\n"
          ]
        }
      ]
    },
    {
      "cell_type": "markdown",
      "source": [
        "# EDA----->(Exploratory_Data_Analysis)"
      ],
      "metadata": {
        "id": "o6vU3w75k7f-"
      }
    },
    {
      "cell_type": "markdown",
      "source": [
        "# 1) Which Year most Booking happen?"
      ],
      "metadata": {
        "id": "l4pJGFkInQN6"
      }
    },
    {
      "cell_type": "code",
      "source": [
        "# return highest bookings made in a year\n",
        "highest_bookings= df_copy.groupby(['arrival_date_year'])['arrival_date_year'].agg({'count'}).reset_index().rename(columns={'count': \"Most_Bookings\" }).sort_values(by='Most_Bookings',ascending=False)\n",
        "# bookings made in a year\n",
        "top_ten_highest_bookings=highest_bookings[:]\n",
        "top_ten_highest_bookings"
      ],
      "metadata": {
        "id": "cj2q9aSclDXT"
      },
      "execution_count": null,
      "outputs": []
    },
    {
      "cell_type": "markdown",
      "source": [
        "### Visualizing_by_plotting_graph"
      ],
      "metadata": {
        "id": "FIINj6zI9B66"
      }
    },
    {
      "cell_type": "code",
      "source": [
        "#set plotsize\n",
        "plt.figure(figsize=(7,8))\n",
        "#plotting of bar\n",
        "sns.countplot(x=df_copy['arrival_date_year'],order=df_copy['arrival_date_year'].value_counts().index)\n",
        "#  set x-label in plot\n",
        "plt.xlabel('Year')\n",
        "# set y-label in the plot\n",
        "plt.ylabel('Number of Booking')\n",
        "# set title for the plot\n",
        "plt.title(\"df_copy\")"
      ],
      "metadata": {
        "id": "Zee5Smxsogtz"
      },
      "execution_count": null,
      "outputs": []
    },
    {
      "cell_type": "markdown",
      "source": [
        "## Observation from the Graph \n",
        "### In the year 2016 Most number of Booking happend in Hotels."
      ],
      "metadata": {
        "id": "U0qZyggZxg6O"
      }
    },
    {
      "cell_type": "markdown",
      "source": [
        "# 2) Country With Highest Number of Booking"
      ],
      "metadata": {
        "id": "dUdiVziv3jwQ"
      }
    },
    {
      "cell_type": "code",
      "source": [
        "# return highest bookings made in a year\n",
        "country_list= df_copy.groupby(['country'])['country'].agg({'count'}).reset_index().rename(columns={'index': \"country\" }).sort_values(by='count',ascending=False)\n",
        "country_list.drop(country_list[country_list['country']==0].index,inplace=True) \n",
        "country_list=country_list[:20]\n",
        "country_list"
      ],
      "metadata": {
        "id": "l2QMDQd5n77j"
      },
      "execution_count": null,
      "outputs": []
    },
    {
      "cell_type": "markdown",
      "source": [
        "### Visualizing_by_plotting_graph"
      ],
      "metadata": {
        "id": "Fvzy_Y-u9vxy"
      }
    },
    {
      "cell_type": "code",
      "source": [
        "# Visualizing by  plotting the graph\n",
        "plt.figure(figsize=(20,8))\n",
        "sns.barplot(x=country_list['country'],y=country_list['count'])\n",
        "plt.xlabel('Country')\n",
        "plt.ylabel('Number of guests',fontsize=12)\n",
        "plt.title(\"Number of guests from diffrent Countries\")"
      ],
      "metadata": {
        "colab": {
          "base_uri": "https://localhost:8080/",
          "height": 530
        },
        "id": "7rmbjTVg9nq6",
        "outputId": "7b1907aa-b29f-4d88-ab12-9abddd42fe76"
      },
      "execution_count": null,
      "outputs": [
        {
          "output_type": "execute_result",
          "data": {
            "text/plain": [
              "Text(0.5, 1.0, 'Number of guests from diffrent Countries')"
            ]
          },
          "metadata": {},
          "execution_count": 99
        },
        {
          "output_type": "display_data",
          "data": {
            "text/plain": [
              "<Figure size 1440x576 with 1 Axes>"
            ],
            "image/png": "[encoded data removed]"
          },
          "metadata": {
            "needs_background": "light"
          }
        }
      ]
    },
    {
      "cell_type": "markdown",
      "source": [
        "# 3) Map wise desity graph"
      ],
      "metadata": {
        "id": "rqRu10kzGnCJ"
      }
    },
    {
      "cell_type": "code",
      "source": [
        "import folium                               \n",
        "import plotly.express as px\n",
        "# searched on google \n",
        "basemap = folium.Map()\n",
        "guests_map = px.choropleth(country_list, locations = country_list['country'],color = country_list['count'], hover_name = country_list['country'])\n",
        "guests_map.show()"
      ],
      "metadata": {
        "id": "GFsze17RGHEv"
      },
      "execution_count": null,
      "outputs": []
    },
    {
      "cell_type": "markdown",
      "source": [
        "# 4) Which type of Hotel have highest number of booking"
      ],
      "metadata": {
        "id": "z4JOAmVO1Ki-"
      }
    },
    {
      "cell_type": "code",
      "source": [
        "# return highest bookings made in a year\n",
        "Hotel_list= df_copy.groupby(['hotel'])['hotel'].agg({'count'}).reset_index().rename(columns={'index': \"Serial\" }).sort_values(by='count',ascending=False)\n",
        "# country_list.drop(country_list[country_list['country']==0].index,inplace=True) \n",
        "# country_list=country_list[:20]\n",
        "print(Hotel_list)"
      ],
      "metadata": {
        "colab": {
          "base_uri": "https://localhost:8080/"
        },
        "id": "4QzrLnLxf3uE",
        "outputId": "b99ef236-480c-4bd8-a938-06372ed823df"
      },
      "execution_count": null,
      "outputs": [
        {
          "output_type": "stream",
          "name": "stdout",
          "text": [
            "          hotel  count\n",
            "0    City Hotel  79330\n",
            "1  Resort Hotel  40060\n"
          ]
        }
      ]
    },
    {
      "cell_type": "markdown",
      "source": [
        "### Visualizing_by_plotting_graph"
      ],
      "metadata": {
        "id": "bH8qcPsIk0Ln"
      }
    },
    {
      "cell_type": "code",
      "source": [
        "\n",
        "# Visualizing by  plotting the graph\n",
        "plt.figure(figsize=(6,10))\n",
        "sns.barplot(x=Hotel_list['hotel'],y=Hotel_list['count'])\n",
        "plt.xlabel('hotel')\n",
        "plt.ylabel('Number of guests',fontsize=12)\n",
        "plt.title(\"Number of guests from diffrent Countries\")"
      ],
      "metadata": {
        "colab": {
          "base_uri": "https://localhost:8080/"
        },
        "id": "w6PGnNwNh7H1",
        "outputId": "0a0ab0a3-1116-4db5-858b-9382a1723b87"
      },
      "execution_count": null,
      "outputs": [
        {
          "output_type": "execute_result",
          "data": {
            "text/plain": [
              "Text(0.5, 1.0, 'Number of guests from diffrent Countries')"
            ]
          },
          "metadata": {},
          "execution_count": 18
        },
        {
          "output_type": "display_data",
          "data": {
            "text/plain": [
              "<Figure size 432x720 with 1 Axes>"
            ],
            "image/png": "[encoded data removed]"
          },
          "metadata": {
            "needs_background": "light"
          }
        }
      ]
    },
    {
      "cell_type": "markdown",
      "source": [],
      "metadata": {
        "id": "5QsVytpaVtp5"
      }
    },
    {
      "cell_type": "markdown",
      "source": [
        "# 5) Highest Number of room type booked "
      ],
      "metadata": {
        "id": "WHuJ_kmgqD-s"
      }
    },
    {
      "cell_type": "code",
      "source": [
        "# return highest bookings made in a year\n",
        "bookings_room= df_copy.groupby(['reserved_room_type'])['reserved_room_type'].agg({'count'}).reset_index().rename(columns={'count': \"No_of_Bookings\" })\n",
        "# bookings made in a year\n",
        "booking_room_type=bookings_room[:]\n",
        "booking_room_type\n"
      ],
      "metadata": {
        "id": "XkCITQOEch8P"
      },
      "execution_count": null,
      "outputs": []
    },
    {
      "cell_type": "markdown",
      "source": [
        "## Highest Number of room type booked in %"
      ],
      "metadata": {
        "id": "LeV1ZHPnt4tb"
      }
    },
    {
      "cell_type": "code",
      "source": [
        "booking_room_type['No_of_Bookings'].plot.pie(explode=[0.05]*10,shadow=True,autopct='%1.1f%%',figsize=(15,20),fontsize=15,labels=None)\n",
        "labels1=booking_room_type['reserved_room_type'].value_counts().index.tolist()\n",
        "labels=booking_room_type['No_of_Bookings'].value_counts().index.tolist()\n",
        "Lab3=(labels1+labels)\n",
        "plt.title('% Distribution of Customer Type')\n",
        "plt.legend(bbox_to_anchor=(0.85, 1), loc='upper left', labels=labels1)\n",
        "\n"
      ],
      "metadata": {
        "colab": {
          "base_uri": "https://localhost:8080/"
        },
        "id": "KFj8IVGEhaEh",
        "outputId": "e9ec9645-f9fd-47fd-f255-331b289f4a38"
      },
      "execution_count": null,
      "outputs": [
        {
          "output_type": "execute_result",
          "data": {
            "text/plain": [
              "<matplotlib.legend.Legend at 0x7fcfb808ab50>"
            ]
          },
          "metadata": {},
          "execution_count": 91
        },
        {
          "output_type": "display_data",
          "data": {
            "text/plain": [
              "<Figure size 1080x1440 with 1 Axes>"
            ],
            "image/png": "[encoded data removed]"
          },
          "metadata": {}
        }
      ]
    },
    {
      "cell_type": "markdown",
      "source": [
        "# 6) Number of room booking by top 10 Agent"
      ],
      "metadata": {
        "id": "r3BzFb1iuLWE"
      }
    },
    {
      "cell_type": "code",
      "source": [
        "# return highest bookings made in a year\n",
        "agent_no= df_copy.groupby(['agent'])['agent'].agg({'count'}).reset_index().rename(columns={'count': \"No_of_Bookings\" }).sort_values(by='No_of_Bookings',ascending=False)\n",
        "# bookings made in a year\n",
        "booking_by_agent=agent_no.iloc[0:20].sort_values(by='agent',ascending=True)\n",
        "booking_by_agent\n"
      ],
      "metadata": {
        "colab": {
          "base_uri": "https://localhost:8080/",
          "height": 676
        },
        "id": "A6egE78MWZ2u",
        "outputId": "5fce4c15-5593-411a-c480-67716daf0e54"
      },
      "execution_count": 14,
      "outputs": [
        {
          "output_type": "execute_result",
          "data": {
            "text/plain": [
              "     agent  No_of_Bookings\n",
              "0      1.0            7191\n",
              "2      3.0            1336\n",
              "5      6.0            3290\n",
              "6      7.0            3539\n",
              "7      8.0            1514\n",
              "8      9.0           31961\n",
              "13    14.0            3640\n",
              "17    19.0            1061\n",
              "19    21.0             875\n",
              "26    28.0            1666\n",
              "27    29.0             683\n",
              "35    37.0            1230\n",
              "38    40.0            1039\n",
              "72    83.0             696\n",
              "168  229.0             786\n",
              "173  240.0           13922\n",
              "174  241.0            1721\n",
              "175  242.0             780\n",
              "182  250.0            2870\n",
              "227  314.0             927"
            ],
            "text/html": [
              "\n",
              "  <div id=\"df-ce50dd0e-4d20-49c6-a0e0-9d9c7cd094c2\">\n",
              "    <div class=\"colab-df-container\">\n",
              "      <div>\n",
              "<style scoped>\n",
              "    .dataframe tbody tr th:only-of-type {\n",
              "        vertical-align: middle;\n",
              "    }\n",
              "\n",
              "    .dataframe tbody tr th {\n",
              "        vertical-align: top;\n",
              "    }\n",
              "\n",
              "    .dataframe thead th {\n",
              "        text-align: right;\n",
              "    }\n",
              "</style>\n",
              "<table border=\"1\" class=\"dataframe\">\n",
              "  <thead>\n",
              "    <tr style=\"text-align: right;\">\n",
              "      <th></th>\n",
              "      <th>agent</th>\n",
              "      <th>No_of_Bookings</th>\n",
              "    </tr>\n",
              "  </thead>\n",
              "  <tbody>\n",
              "    <tr>\n",
              "      <th>0</th>\n",
              "      <td>1.0</td>\n",
              "      <td>7191</td>\n",
              "    </tr>\n",
              "    <tr>\n",
              "      <th>2</th>\n",
              "      <td>3.0</td>\n",
              "      <td>1336</td>\n",
              "    </tr>\n",
              "    <tr>\n",
              "      <th>5</th>\n",
              "      <td>6.0</td>\n",
              "      <td>3290</td>\n",
              "    </tr>\n",
              "    <tr>\n",
              "      <th>6</th>\n",
              "      <td>7.0</td>\n",
              "      <td>3539</td>\n",
              "    </tr>\n",
              "    <tr>\n",
              "      <th>7</th>\n",
              "      <td>8.0</td>\n",
              "      <td>1514</td>\n",
              "    </tr>\n",
              "    <tr>\n",
              "      <th>8</th>\n",
              "      <td>9.0</td>\n",
              "      <td>31961</td>\n",
              "    </tr>\n",
              "    <tr>\n",
              "      <th>13</th>\n",
              "      <td>14.0</td>\n",
              "      <td>3640</td>\n",
              "    </tr>\n",
              "    <tr>\n",
              "      <th>17</th>\n",
              "      <td>19.0</td>\n",
              "      <td>1061</td>\n",
              "    </tr>\n",
              "    <tr>\n",
              "      <th>19</th>\n",
              "      <td>21.0</td>\n",
              "      <td>875</td>\n",
              "    </tr>\n",
              "    <tr>\n",
              "      <th>26</th>\n",
              "      <td>28.0</td>\n",
              "      <td>1666</td>\n",
              "    </tr>\n",
              "    <tr>\n",
              "      <th>27</th>\n",
              "      <td>29.0</td>\n",
              "      <td>683</td>\n",
              "    </tr>\n",
              "    <tr>\n",
              "      <th>35</th>\n",
              "      <td>37.0</td>\n",
              "      <td>1230</td>\n",
              "    </tr>\n",
              "    <tr>\n",
              "      <th>38</th>\n",
              "      <td>40.0</td>\n",
              "      <td>1039</td>\n",
              "    </tr>\n",
              "    <tr>\n",
              "      <th>72</th>\n",
              "      <td>83.0</td>\n",
              "      <td>696</td>\n",
              "    </tr>\n",
              "    <tr>\n",
              "      <th>168</th>\n",
              "      <td>229.0</td>\n",
              "      <td>786</td>\n",
              "    </tr>\n",
              "    <tr>\n",
              "      <th>173</th>\n",
              "      <td>240.0</td>\n",
              "      <td>13922</td>\n",
              "    </tr>\n",
              "    <tr>\n",
              "      <th>174</th>\n",
              "      <td>241.0</td>\n",
              "      <td>1721</td>\n",
              "    </tr>\n",
              "    <tr>\n",
              "      <th>175</th>\n",
              "      <td>242.0</td>\n",
              "      <td>780</td>\n",
              "    </tr>\n",
              "    <tr>\n",
              "      <th>182</th>\n",
              "      <td>250.0</td>\n",
              "      <td>2870</td>\n",
              "    </tr>\n",
              "    <tr>\n",
              "      <th>227</th>\n",
              "      <td>314.0</td>\n",
              "      <td>927</td>\n",
              "    </tr>\n",
              "  </tbody>\n",
              "</table>\n",
              "</div>\n",
              "      <button class=\"colab-df-convert\" onclick=\"convertToInteractive('df-ce50dd0e-4d20-49c6-a0e0-9d9c7cd094c2')\"\n",
              "              title=\"Convert this dataframe to an interactive table.\"\n",
              "              style=\"display:none;\">\n",
              "        \n",
              "  <svg xmlns=\"http://www.w3.org/2000/svg\" height=\"24px\"viewBox=\"0 0 24 24\"\n",
              "       width=\"24px\">\n",
              "    <path d=\"M0 0h24v24H0V0z\" fill=\"none\"/>\n",
              "    <path d=\"M18.56 5.44l.94 2.06.94-2.06 2.06-.94-2.06-.94-.94-2.06-.94 2.06-2.06.94zm-11 1L8.5 8.5l.94-2.06 2.06-.94-2.06-.94L8.5 2.5l-.94 2.06-2.06.94zm10 10l.94 2.06.94-2.06 2.06-.94-2.06-.94-.94-2.06-.94 2.06-2.06.94z\"/><path d=\"M17.41 7.96l-1.37-1.37c-.4-.4-.92-.59-1.43-.59-.52 0-1.04.2-1.43.59L10.3 9.45l-7.72 7.72c-.78.78-.78 2.05 0 2.83L4 21.41c.39.39.9.59 1.41.59.51 0 1.02-.2 1.41-.59l7.78-7.78 2.81-2.81c.8-.78.8-2.07 0-2.86zM5.41 20L4 18.59l7.72-7.72 1.47 1.35L5.41 20z\"/>\n",
              "  </svg>\n",
              "      </button>\n",
              "      \n",
              "  <style>\n",
              "    .colab-df-container {\n",
              "      display:flex;\n",
              "      flex-wrap:wrap;\n",
              "      gap: 12px;\n",
              "    }\n",
              "\n",
              "    .colab-df-convert {\n",
              "      background-color: #E8F0FE;\n",
              "      border: none;\n",
              "      border-radius: 50%;\n",
              "      cursor: pointer;\n",
              "      display: none;\n",
              "      fill: #1967D2;\n",
              "      height: 32px;\n",
              "      padding: 0 0 0 0;\n",
              "      width: 32px;\n",
              "    }\n",
              "\n",
              "    .colab-df-convert:hover {\n",
              "      background-color: #E2EBFA;\n",
              "      box-shadow: 0px 1px 2px rgba(60, 64, 67, 0.3), 0px 1px 3px 1px rgba(60, 64, 67, 0.15);\n",
              "      fill: #174EA6;\n",
              "    }\n",
              "\n",
              "    [theme=dark] .colab-df-convert {\n",
              "      background-color: #3B4455;\n",
              "      fill: #D2E3FC;\n",
              "    }\n",
              "\n",
              "    [theme=dark] .colab-df-convert:hover {\n",
              "      background-color: #434B5C;\n",
              "      box-shadow: 0px 1px 3px 1px rgba(0, 0, 0, 0.15);\n",
              "      filter: drop-shadow(0px 1px 2px rgba(0, 0, 0, 0.3));\n",
              "      fill: #FFFFFF;\n",
              "    }\n",
              "  </style>\n",
              "\n",
              "      <script>\n",
              "        const buttonEl =\n",
              "          document.querySelector('#df-ce50dd0e-4d20-49c6-a0e0-9d9c7cd094c2 button.colab-df-convert');\n",
              "        buttonEl.style.display =\n",
              "          google.colab.kernel.accessAllowed ? 'block' : 'none';\n",
              "\n",
              "        async function convertToInteractive(key) {\n",
              "          const element = document.querySelector('#df-ce50dd0e-4d20-49c6-a0e0-9d9c7cd094c2');\n",
              "          const dataTable =\n",
              "            await google.colab.kernel.invokeFunction('convertToInteractive',\n",
              "                                                     [key], {});\n",
              "          if (!dataTable) return;\n",
              "\n",
              "          const docLinkHtml = 'Like what you see? Visit the ' +\n",
              "            '<a target=\"_blank\" href=https://colab.research.google.com/notebooks/data_table.ipynb>data table notebook</a>'\n",
              "            + ' to learn more about interactive tables.';\n",
              "          element.innerHTML = '';\n",
              "          dataTable['output_type'] = 'display_data';\n",
              "          await google.colab.output.renderOutput(dataTable, element);\n",
              "          const docLink = document.createElement('div');\n",
              "          docLink.innerHTML = docLinkHtml;\n",
              "          element.appendChild(docLink);\n",
              "        }\n",
              "      </script>\n",
              "    </div>\n",
              "  </div>\n",
              "  "
            ]
          },
          "metadata": {},
          "execution_count": 14
        }
      ]
    },
    {
      "cell_type": "markdown",
      "source": [
        "## Visualizing by  plotting the graph"
      ],
      "metadata": {
        "id": "gDn0EHJ-a-9a"
      }
    },
    {
      "cell_type": "code",
      "source": [
        "# Visualizing by  plotting the graph\n",
        "plt.figure(figsize=(20,8))\n",
        "sns.barplot(x=booking_by_agent[\"agent\"],y=booking_by_agent['No_of_Bookings'])\n",
        "plt.xlabel('agent_code')\n",
        "plt.ylabel('Number of Room Booking',fontsize=12)\n",
        "plt.title(\"Number of Room Booking by top 10 agent\")"
      ],
      "metadata": {
        "colab": {
          "base_uri": "https://localhost:8080/",
          "height": 531
        },
        "id": "yWSB4yGla_1-",
        "outputId": "f02d4813-0d80-4a4e-fde6-3702bfa1c517"
      },
      "execution_count": 15,
      "outputs": [
        {
          "output_type": "execute_result",
          "data": {
            "text/plain": [
              "Text(0.5, 1.0, 'Number of Room Booking by top 10 agent')"
            ]
          },
          "metadata": {},
          "execution_count": 15
        },
        {
          "output_type": "display_data",
          "data": {
            "text/plain": [
              "<Figure size 1440x576 with 1 Axes>"
            ],
            "image/png": "[encoded data removed]"
          },
          "metadata": {
            "needs_background": "light"
          }
        }
      ]
    },
    {
      "cell_type": "markdown",
      "source": [],
      "metadata": {
        "id": "SkasW9v7irAN"
      }
    },
    {
      "cell_type": "markdown",
      "source": [
        "# 7) Find is the most common market_segment prefer to booking hotels?"
      ],
      "metadata": {
        "id": "aMyY6DHsdEC9"
      }
    },
    {
      "cell_type": "code",
      "source": [
        "group_by_dc = df_copy.groupby('market_segment')\n",
        "market_segment = pd.DataFrame(round((group_by_dc.size()/df_copy.shape[0])*100,2)).reset_index().rename(columns = {0: 'Booking_%'})\n",
        "plt.figure(figsize = (18,15))\n",
        "data = market_segment['Booking_%']\n",
        "\n",
        "labels = market_segment['market_segment']\n",
        "plt.pie(x=data, autopct=\"%.2f%%\", explode=[0.05]*8, labels=labels, pctdistance=0.5)\n",
        "plt.title(\"Booking % through market_segment\", fontsize=14);"
      ],
      "metadata": {
        "id": "S08nf8LCdxkm"
      },
      "execution_count": null,
      "outputs": []
    }
  ]
}