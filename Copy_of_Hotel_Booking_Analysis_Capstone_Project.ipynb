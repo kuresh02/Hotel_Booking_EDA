{
  "nbformat": 4,
  "nbformat_minor": 0,
  "metadata": {
    "kernelspec": {
      "display_name": "Python 3",
      "language": "python",
      "name": "python3"
    },
    "language_info": {
      "codemirror_mode": {
        "name": "ipython",
        "version": 3
      },
      "file_extension": ".py",
      "mimetype": "text/x-python",
      "name": "python",
      "nbconvert_exporter": "python",
      "pygments_lexer": "ipython3",
      "version": "3.6.6"
    },
    "colab": {
      "provenance": [],
      "collapsed_sections": [
        "yk3QxZp5zV9W",
        "krycp8sS1nqq",
        "OTx1P8dQ2F3C",
        "qxWEniRc5SuG",
        "Sjzus2dn8V32",
        "gyb-gRLv8hN2",
        "I9ErpQv78xK3",
        "jeKybyMY9uo7",
        "FDNwWStmaA_v"
      ],
      "include_colab_link": true
    }
  },
  "cells": [
    {
      "cell_type": "markdown",
      "metadata": {
        "id": "view-in-github",
        "colab_type": "text"
      },
      "source": [
        "<a href=\"https://colab.research.google.com/github/kuresh02/Hotel_Booking_EDA/blob/main/Copy_of_Hotel_Booking_Analysis_Capstone_Project.ipynb\" target=\"_parent\"><img src=\"https://colab.research.google.com/assets/colab-badge.svg\" alt=\"Open In Colab\"/></a>"
      ]
    },
    {
      "cell_type": "markdown",
      "metadata": {
        "id": "Y06xIdG26kRF"
      },
      "source": [
        "## <b> Have you ever wondered when the best time of year to book a hotel room is? Or the optimal length of stay in order to get the best daily rate? What if you wanted to predict whether or not a hotel was likely to receive a disproportionately high number of special requests? This hotel booking dataset can help you explore those questions!\n",
        "\n",
        "## <b>This data set contains booking information for a city hotel and a resort hotel, and includes information such as when the booking was made, length of stay, the number of adults, children, and/or babies, and the number of available parking spaces, among other things. All personally identifying information has been removed from the data. </b>\n",
        "\n",
        "## <b> Explore and analyze the data to discover important factors that govern the bookings. </b>"
      ]
    },
    {
      "cell_type": "markdown",
      "source": [
        "\n",
        "# Importing_Libraries"
      ],
      "metadata": {
        "id": "w7MCtSPXtuVD"
      }
    },
    {
      "cell_type": "code",
      "source": [
        "\n",
        "# Importing python libraries\n",
        "import pandas as pd\n",
        "import numpy as np\n",
        "import matplotlib\n",
        "import matplotlib.pyplot as plt\n",
        "import seaborn as sns\n",
        "# Importing all import python libraries\n",
        "import folium\n",
        "import plotly.express as px\n",
        "\n",
        "\n",
        "%matplotlib inline #It is a magic function that renders the figure in a notebook"
      ],
      "metadata": {
        "id": "DsUyAzmzozLh",
        "colab": {
          "base_uri": "https://localhost:8080/"
        },
        "outputId": "1e9be800-486a-432e-da4a-4be1950224ac"
      },
      "execution_count": 1,
      "outputs": [
        {
          "output_type": "stream",
          "name": "stderr",
          "text": [
            "UsageError: unrecognized arguments: #It is a magic function that renders the figure in a notebook\n"
          ]
        }
      ]
    },
    {
      "cell_type": "markdown",
      "source": [
        "# Mounting_Drive"
      ],
      "metadata": {
        "id": "yk3QxZp5zV9W"
      }
    },
    {
      "cell_type": "code",
      "source": [
        "#mounting driver from google\n",
        "from google.colab import drive\n",
        "drive.mount('/content/drive')"
      ],
      "metadata": {
        "colab": {
          "base_uri": "https://localhost:8080/"
        },
        "id": "bTMJnCLi1Fsn",
        "outputId": "a167815e-93a2-4d4e-d32c-2aca629f5d36"
      },
      "execution_count": 2,
      "outputs": [
        {
          "output_type": "stream",
          "name": "stdout",
          "text": [
            "Mounted at /content/drive\n"
          ]
        }
      ]
    },
    {
      "cell_type": "markdown",
      "source": [
        "# Csv_File_Location"
      ],
      "metadata": {
        "id": "krycp8sS1nqq"
      }
    },
    {
      "cell_type": "code",
      "source": [
        "#csv file location\n",
        "data_file_path=\"/content/drive/MyDrive/Capstone_Project/Capstone_Project_01_Exploratory Data Analysis/Project_Colab_NoteBook_&_Data/Data/Hotel Bookings.csv\"\n"
      ],
      "metadata": {
        "id": "rs2hc_8d1h7z"
      },
      "execution_count": null,
      "outputs": []
    },
    {
      "cell_type": "markdown",
      "source": [
        "# Reading_Data_From_Csv_File"
      ],
      "metadata": {
        "id": "OTx1P8dQ2F3C"
      }
    },
    {
      "cell_type": "code",
      "source": [
        "# reading csv file\n",
        "\n",
        "df= pd.read_csv(data_file_path)   \n",
        "df.shape # understanding the total row and column by size"
      ],
      "metadata": {
        "colab": {
          "base_uri": "https://localhost:8080/"
        },
        "id": "XHss-u4H2Saf",
        "outputId": "e7cd3f79-13c0-4b96-fc36-7af42f776d46"
      },
      "execution_count": null,
      "outputs": [
        {
          "output_type": "execute_result",
          "data": {
            "text/plain": [
              "(119390, 32)"
            ]
          },
          "metadata": {},
          "execution_count": 6
        }
      ]
    },
    {
      "cell_type": "markdown",
      "source": [
        "# Checking_Data_Frame_Shape(Row and Columns)"
      ],
      "metadata": {
        "id": "qxWEniRc5SuG"
      }
    },
    {
      "cell_type": "code",
      "source": [
        "#checking the number of rows and column numbers\n",
        "\n",
        "print(f' Our DataFrame have total {df.shape[0]} of rows.')\n",
        "print(f' Our DataFrame have total {df.shape[1]} of columns.')"
      ],
      "metadata": {
        "colab": {
          "base_uri": "https://localhost:8080/"
        },
        "id": "dtMM_oLW7JyH",
        "outputId": "71c42494-e07a-4523-c2a9-85fdefbd6b06"
      },
      "execution_count": null,
      "outputs": [
        {
          "output_type": "stream",
          "name": "stdout",
          "text": [
            " Our DataFrame have total 119390 of rows.\n",
            " Our DataFrame have total 32 of columns.\n"
          ]
        }
      ]
    },
    {
      "cell_type": "markdown",
      "source": [
        "# DataFrame_Exploration"
      ],
      "metadata": {
        "id": "8_trC_lh72y4"
      }
    },
    {
      "cell_type": "markdown",
      "source": [
        "### Checking_1st_five_row"
      ],
      "metadata": {
        "id": "Sjzus2dn8V32"
      }
    },
    {
      "cell_type": "code",
      "source": [
        "# Checking first 5 rows\n",
        "df.head() # by default it show 5 number of row data"
      ],
      "metadata": {
        "id": "3TwBjCdn78MD"
      },
      "execution_count": null,
      "outputs": []
    },
    {
      "cell_type": "markdown",
      "source": [
        "### Checking_last_five_row"
      ],
      "metadata": {
        "id": "gyb-gRLv8hN2"
      }
    },
    {
      "cell_type": "code",
      "source": [
        "# Checking last 5 rows\n",
        "df.tail() # by default it show 5 number of row data"
      ],
      "metadata": {
        "id": "660HU3lV8UBy"
      },
      "execution_count": null,
      "outputs": []
    },
    {
      "cell_type": "markdown",
      "source": [
        "### Summary_statistics_of_the_Series_or_Dataframe"
      ],
      "metadata": {
        "id": "I9ErpQv78xK3"
      }
    },
    {
      "cell_type": "code",
      "source": [
        "#Showing at the min, max values,mean values etc for each and every columns. \n",
        "df.describe(include='all') # NAN values for mean,25% ,50%,75%,max indicates those are categorical columns."
      ],
      "metadata": {
        "id": "achB4hn78yEf"
      },
      "execution_count": null,
      "outputs": []
    },
    {
      "cell_type": "markdown",
      "source": [
        "### Column_with_data_types_with_non_null_entries"
      ],
      "metadata": {
        "id": "jeKybyMY9uo7"
      }
    },
    {
      "cell_type": "code",
      "source": [
        "df.info()"
      ],
      "metadata": {
        "id": "V5X5fT0L9ufW"
      },
      "execution_count": null,
      "outputs": []
    },
    {
      "cell_type": "markdown",
      "source": [
        "## Finding_Name_Of_Column"
      ],
      "metadata": {
        "id": "FDNwWStmaA_v"
      }
    },
    {
      "cell_type": "code",
      "source": [
        "#Create a new copy of dataframe\n",
        "df_copy=df.copy()\n",
        "#print the dataframe Column\n",
        "print(list(df_copy.columns))"
      ],
      "metadata": {
        "id": "Y2YWeP4AaOIc"
      },
      "execution_count": null,
      "outputs": []
    },
    {
      "cell_type": "markdown",
      "source": [
        "### 1) We have to understand what are the  column present in our dataframe\n",
        "### 2) From that we can easy understand about our data dataframe by see unique value by every individual."
      ],
      "metadata": {
        "id": "udjCe92xcBMu"
      }
    },
    {
      "cell_type": "markdown",
      "source": [
        "### Types_Of_Hotel"
      ],
      "metadata": {
        "id": "cvB8Vbt_i97H"
      }
    },
    {
      "cell_type": "code",
      "source": [
        "# types of hotel\n",
        "df_copy['hotel'].unique()"
      ],
      "metadata": {
        "id": "R_b8coLZdPLv"
      },
      "execution_count": null,
      "outputs": []
    },
    {
      "cell_type": "markdown",
      "source": [
        "### Canceled_Types"
      ],
      "metadata": {
        "id": "hI2bTImCjI2e"
      }
    },
    {
      "cell_type": "code",
      "source": [
        "# canceled or not \n",
        "df_copy['is_canceled'].unique()"
      ],
      "metadata": {
        "id": "Wc6vADR8dZuG"
      },
      "execution_count": null,
      "outputs": []
    },
    {
      "cell_type": "markdown",
      "source": [
        "### Arrival_Date_Year"
      ],
      "metadata": {
        "id": "i7YdoslhjSsP"
      }
    },
    {
      "cell_type": "code",
      "source": [
        "# arrival date years\n",
        "df_copy['arrival_date_year'].unique()"
      ],
      "metadata": {
        "id": "1Xq5Qz0Cdv6u"
      },
      "execution_count": null,
      "outputs": []
    },
    {
      "cell_type": "markdown",
      "source": [
        "### Meal_Type"
      ],
      "metadata": {
        "id": "4UlotYq6jXW3"
      }
    },
    {
      "cell_type": "code",
      "source": [
        "# types of meal \n",
        "df_copy['meal'].unique()"
      ],
      "metadata": {
        "id": "85jh9xy2d2N2"
      },
      "execution_count": null,
      "outputs": []
    },
    {
      "cell_type": "markdown",
      "source": [
        "### Country_Name"
      ],
      "metadata": {
        "id": "zjABEme5jfOP"
      }
    },
    {
      "cell_type": "code",
      "source": [
        "# types of country \n",
        "df_copy['country'].unique()"
      ],
      "metadata": {
        "id": "04Sq8RGUeM8e"
      },
      "execution_count": null,
      "outputs": []
    },
    {
      "cell_type": "markdown",
      "source": [
        "### Types_Of_Market_Sagment"
      ],
      "metadata": {
        "id": "tFu8hzNQju4n"
      }
    },
    {
      "cell_type": "code",
      "source": [
        "# types of market_segment \n",
        "df_copy['market_segment'].unique()"
      ],
      "metadata": {
        "id": "Ai_y-t5TeXrv"
      },
      "execution_count": null,
      "outputs": []
    },
    {
      "cell_type": "markdown",
      "source": [
        "### Types_Of_Distrubution_Channel"
      ],
      "metadata": {
        "id": "sNz9S5HKj5eQ"
      }
    },
    {
      "cell_type": "code",
      "source": [
        "# types of distribution_channel \n",
        "df_copy['distribution_channel'].unique()"
      ],
      "metadata": {
        "colab": {
          "base_uri": "https://localhost:8080/"
        },
        "id": "y6IAW712ewIO",
        "outputId": "6b14b2a4-1292-4dcc-dadb-0d9b9b1c662a"
      },
      "execution_count": null,
      "outputs": [
        {
          "output_type": "execute_result",
          "data": {
            "text/plain": [
              "array(['Direct', 'Corporate', 'TA/TO', 'Undefined', 'GDS'], dtype=object)"
            ]
          },
          "metadata": {},
          "execution_count": 13
        }
      ]
    },
    {
      "cell_type": "markdown",
      "source": [
        "### Types_Of_Rooms"
      ],
      "metadata": {
        "id": "ByyoQw_Gj73f"
      }
    },
    {
      "cell_type": "code",
      "source": [
        "# types of reserved_room_type \n",
        "first_set=set(df_copy['reserved_room_type'].unique()) # types of reserved_room_type \n",
        "\n",
        "second_set=set(df_copy['assigned_room_type'].unique()) # types of assigned_room_type \n",
        "\n",
        "Total_room_type=first_set.union(second_set) \n",
        "print(sorted(Total_room_type)) #types of room preset for Hotel Booking"
      ],
      "metadata": {
        "id": "e228SID4evwe"
      },
      "execution_count": null,
      "outputs": []
    },
    {
      "cell_type": "markdown",
      "source": [
        "### Deposit_Type"
      ],
      "metadata": {
        "id": "ZQtzjR9Yj8vv"
      }
    },
    {
      "cell_type": "code",
      "source": [
        "# types of deposit_type available\n",
        "(df_copy['deposit_type'].unique()) # types of deposit_type "
      ],
      "metadata": {
        "id": "h3V2sU7piBYL"
      },
      "execution_count": null,
      "outputs": []
    },
    {
      "cell_type": "markdown",
      "source": [
        "### Distribution_Channel_Type"
      ],
      "metadata": {
        "id": "c7ueBTLoj9ZP"
      }
    },
    {
      "cell_type": "code",
      "source": [
        "# types of distribution_channel available\n",
        "df_copy['distribution_channel'].unique()"
      ],
      "metadata": {
        "colab": {
          "base_uri": "https://localhost:8080/"
        },
        "id": "8jaLeWInikou",
        "outputId": "be974e99-b49a-47f0-eb87-450ef233b3b7"
      },
      "execution_count": null,
      "outputs": [
        {
          "output_type": "execute_result",
          "data": {
            "text/plain": [
              "array(['Direct', 'Corporate', 'TA/TO', 'Undefined', 'GDS'], dtype=object)"
            ]
          },
          "metadata": {},
          "execution_count": 32
        }
      ]
    },
    {
      "cell_type": "markdown",
      "source": [
        "# Clearing Data Process"
      ],
      "metadata": {
        "id": "vZ01MBtElJmw"
      }
    },
    {
      "cell_type": "markdown",
      "source": [
        "###The most important steps before going for the  EDA(Exploratory Data Analysis)\n",
        "###As we know clearing data will remove the conflict between any duplicate data/row.\n",
        "##We have to do the above data cleaning process through the following steps:-\n",
        "###1) Remove all duplicate rows.\n",
        "###2) Missing values finding and replacing with proper values\n",
        "###3) Change required column data types from string to appropriate datatypes.\n",
        "###4)  Adding some required new columns."
      ],
      "metadata": {
        "id": "7bbgnWDDlZIX"
      }
    },
    {
      "cell_type": "markdown",
      "source": [
        "## </b>Step 1---> Remove all duplicate rows</b>."
      ],
      "metadata": {
        "id": "CRT_NZN-pLQS"
      }
    },
    {
      "cell_type": "code",
      "source": [
        "df_copy[df_copy.duplicated()].shape  #total number to duplicated rows present in dataframe"
      ],
      "metadata": {
        "colab": {
          "base_uri": "https://localhost:8080/"
        },
        "id": "zk-2v91qpKMh",
        "outputId": "c510c38e-2b02-4c14-ab5c-ebc05a80dbe1"
      },
      "execution_count": null,
      "outputs": [
        {
          "output_type": "execute_result",
          "data": {
            "text/plain": [
              "(31994, 32)"
            ]
          },
          "metadata": {},
          "execution_count": 34
        }
      ]
    },
    {
      "cell_type": "code",
      "source": [
        "# Dropping the duplicate values\n",
        "df_copy.drop_duplicates(inplace = True)"
      ],
      "metadata": {
        "id": "bSkkjQaoqTZI"
      },
      "execution_count": null,
      "outputs": []
    },
    {
      "cell_type": "code",
      "source": [
        "df_copy.shape"
      ],
      "metadata": {
        "colab": {
          "base_uri": "https://localhost:8080/"
        },
        "id": "aMiiaoDrqj05",
        "outputId": "19edaf69-2ab2-4e19-aa17-30776deec48d"
      },
      "execution_count": null,
      "outputs": [
        {
          "output_type": "execute_result",
          "data": {
            "text/plain": [
              "(87396, 32)"
            ]
          },
          "metadata": {},
          "execution_count": 36
        }
      ]
    },
    {
      "cell_type": "markdown",
      "source": [
        "## </b>Step 2---> Missing values finding and replacing with proper values</b>."
      ],
      "metadata": {
        "id": "nyz3n4h1qsvf"
      }
    },
    {
      "cell_type": "code",
      "source": [
        "## Check any Null value present in columns\n",
        "df_copy.isna().sum().sort_values(ascending=False)[:6].reset_index().rename(columns={'index':'Columns',0:'Null values'})"
      ],
      "metadata": {
        "colab": {
          "base_uri": "https://localhost:8080/",
          "height": 237
        },
        "id": "nfW-tzVVqsfv",
        "outputId": "56292553-27ca-496e-fedf-d841d745c5b4"
      },
      "execution_count": null,
      "outputs": [
        {
          "output_type": "execute_result",
          "data": {
            "text/plain": [
              "              Columns  Null values\n",
              "0             company        82137\n",
              "1               agent        12193\n",
              "2             country          452\n",
              "3            children            4\n",
              "4  reserved_room_type            0\n",
              "5  assigned_room_type            0"
            ],
            "text/html": [
              "\n",
              "  <div id=\"df-a8a0fd12-e0f9-459b-92d9-15695cd79873\">\n",
              "    <div class=\"colab-df-container\">\n",
              "      <div>\n",
              "<style scoped>\n",
              "    .dataframe tbody tr th:only-of-type {\n",
              "        vertical-align: middle;\n",
              "    }\n",
              "\n",
              "    .dataframe tbody tr th {\n",
              "        vertical-align: top;\n",
              "    }\n",
              "\n",
              "    .dataframe thead th {\n",
              "        text-align: right;\n",
              "    }\n",
              "</style>\n",
              "<table border=\"1\" class=\"dataframe\">\n",
              "  <thead>\n",
              "    <tr style=\"text-align: right;\">\n",
              "      <th></th>\n",
              "      <th>Columns</th>\n",
              "      <th>Null values</th>\n",
              "    </tr>\n",
              "  </thead>\n",
              "  <tbody>\n",
              "    <tr>\n",
              "      <th>0</th>\n",
              "      <td>company</td>\n",
              "      <td>82137</td>\n",
              "    </tr>\n",
              "    <tr>\n",
              "      <th>1</th>\n",
              "      <td>agent</td>\n",
              "      <td>12193</td>\n",
              "    </tr>\n",
              "    <tr>\n",
              "      <th>2</th>\n",
              "      <td>country</td>\n",
              "      <td>452</td>\n",
              "    </tr>\n",
              "    <tr>\n",
              "      <th>3</th>\n",
              "      <td>children</td>\n",
              "      <td>4</td>\n",
              "    </tr>\n",
              "    <tr>\n",
              "      <th>4</th>\n",
              "      <td>reserved_room_type</td>\n",
              "      <td>0</td>\n",
              "    </tr>\n",
              "    <tr>\n",
              "      <th>5</th>\n",
              "      <td>assigned_room_type</td>\n",
              "      <td>0</td>\n",
              "    </tr>\n",
              "  </tbody>\n",
              "</table>\n",
              "</div>\n",
              "      <button class=\"colab-df-convert\" onclick=\"convertToInteractive('df-a8a0fd12-e0f9-459b-92d9-15695cd79873')\"\n",
              "              title=\"Convert this dataframe to an interactive table.\"\n",
              "              style=\"display:none;\">\n",
              "        \n",
              "  <svg xmlns=\"http://www.w3.org/2000/svg\" height=\"24px\"viewBox=\"0 0 24 24\"\n",
              "       width=\"24px\">\n",
              "    <path d=\"M0 0h24v24H0V0z\" fill=\"none\"/>\n",
              "    <path d=\"M18.56 5.44l.94 2.06.94-2.06 2.06-.94-2.06-.94-.94-2.06-.94 2.06-2.06.94zm-11 1L8.5 8.5l.94-2.06 2.06-.94-2.06-.94L8.5 2.5l-.94 2.06-2.06.94zm10 10l.94 2.06.94-2.06 2.06-.94-2.06-.94-.94-2.06-.94 2.06-2.06.94z\"/><path d=\"M17.41 7.96l-1.37-1.37c-.4-.4-.92-.59-1.43-.59-.52 0-1.04.2-1.43.59L10.3 9.45l-7.72 7.72c-.78.78-.78 2.05 0 2.83L4 21.41c.39.39.9.59 1.41.59.51 0 1.02-.2 1.41-.59l7.78-7.78 2.81-2.81c.8-.78.8-2.07 0-2.86zM5.41 20L4 18.59l7.72-7.72 1.47 1.35L5.41 20z\"/>\n",
              "  </svg>\n",
              "      </button>\n",
              "      \n",
              "  <style>\n",
              "    .colab-df-container {\n",
              "      display:flex;\n",
              "      flex-wrap:wrap;\n",
              "      gap: 12px;\n",
              "    }\n",
              "\n",
              "    .colab-df-convert {\n",
              "      background-color: #E8F0FE;\n",
              "      border: none;\n",
              "      border-radius: 50%;\n",
              "      cursor: pointer;\n",
              "      display: none;\n",
              "      fill: #1967D2;\n",
              "      height: 32px;\n",
              "      padding: 0 0 0 0;\n",
              "      width: 32px;\n",
              "    }\n",
              "\n",
              "    .colab-df-convert:hover {\n",
              "      background-color: #E2EBFA;\n",
              "      box-shadow: 0px 1px 2px rgba(60, 64, 67, 0.3), 0px 1px 3px 1px rgba(60, 64, 67, 0.15);\n",
              "      fill: #174EA6;\n",
              "    }\n",
              "\n",
              "    [theme=dark] .colab-df-convert {\n",
              "      background-color: #3B4455;\n",
              "      fill: #D2E3FC;\n",
              "    }\n",
              "\n",
              "    [theme=dark] .colab-df-convert:hover {\n",
              "      background-color: #434B5C;\n",
              "      box-shadow: 0px 1px 3px 1px rgba(0, 0, 0, 0.15);\n",
              "      filter: drop-shadow(0px 1px 2px rgba(0, 0, 0, 0.3));\n",
              "      fill: #FFFFFF;\n",
              "    }\n",
              "  </style>\n",
              "\n",
              "      <script>\n",
              "        const buttonEl =\n",
              "          document.querySelector('#df-a8a0fd12-e0f9-459b-92d9-15695cd79873 button.colab-df-convert');\n",
              "        buttonEl.style.display =\n",
              "          google.colab.kernel.accessAllowed ? 'block' : 'none';\n",
              "\n",
              "        async function convertToInteractive(key) {\n",
              "          const element = document.querySelector('#df-a8a0fd12-e0f9-459b-92d9-15695cd79873');\n",
              "          const dataTable =\n",
              "            await google.colab.kernel.invokeFunction('convertToInteractive',\n",
              "                                                     [key], {});\n",
              "          if (!dataTable) return;\n",
              "\n",
              "          const docLinkHtml = 'Like what you see? Visit the ' +\n",
              "            '<a target=\"_blank\" href=https://colab.research.google.com/notebooks/data_table.ipynb>data table notebook</a>'\n",
              "            + ' to learn more about interactive tables.';\n",
              "          element.innerHTML = '';\n",
              "          dataTable['output_type'] = 'display_data';\n",
              "          await google.colab.output.renderOutput(dataTable, element);\n",
              "          const docLink = document.createElement('div');\n",
              "          docLink.innerHTML = docLinkHtml;\n",
              "          element.appendChild(docLink);\n",
              "        }\n",
              "      </script>\n",
              "    </div>\n",
              "  </div>\n",
              "  "
            ]
          },
          "metadata": {},
          "execution_count": 43
        }
      ]
    },
    {
      "cell_type": "markdown",
      "source": [],
      "metadata": {
        "id": "4drbymDaAh1F"
      }
    }
  ]
}