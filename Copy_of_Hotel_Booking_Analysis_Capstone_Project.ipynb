{
  "nbformat": 4,
  "nbformat_minor": 0,
  "metadata": {
    "kernelspec": {
      "display_name": "Python 3",
      "language": "python",
      "name": "python3"
    },
    "language_info": {
      "codemirror_mode": {
        "name": "ipython",
        "version": 3
      },
      "file_extension": ".py",
      "mimetype": "text/x-python",
      "name": "python",
      "nbconvert_exporter": "python",
      "pygments_lexer": "ipython3",
      "version": "3.6.6"
    },
    "colab": {
      "provenance": [],
      "collapsed_sections": [
        "w7MCtSPXtuVD",
        "yk3QxZp5zV9W",
        "krycp8sS1nqq",
        "OTx1P8dQ2F3C",
        "qxWEniRc5SuG",
        "8_trC_lh72y4",
        "Sjzus2dn8V32",
        "gyb-gRLv8hN2",
        "I9ErpQv78xK3",
        "jeKybyMY9uo7",
        "FDNwWStmaA_v",
        "hI2bTImCjI2e",
        "i7YdoslhjSsP",
        "4UlotYq6jXW3",
        "zjABEme5jfOP",
        "tFu8hzNQju4n",
        "sNz9S5HKj5eQ",
        "ByyoQw_Gj73f",
        "vZ01MBtElJmw",
        "CRT_NZN-pLQS",
        "nyz3n4h1qsvf",
        "4drbymDaAh1F",
        "nKDi6ROGIUYz",
        "mKLbO4TCPSLJ",
        "_-fzIAlfQIgU",
        "8InuFtwdQXi0",
        "l4pJGFkInQN6",
        "dUdiVziv3jwQ",
        "y296WUSvgJ-t",
        "rqRu10kzGnCJ",
        "bH8qcPsIk0Ln",
        "WHuJ_kmgqD-s",
        "LeV1ZHPnt4tb",
        "r3BzFb1iuLWE",
        "gDn0EHJ-a-9a",
        "ZvUWSh20IaVV",
        "d-AXPncIItrM"
      ],
      "include_colab_link": true
    }
  },
  "cells": [
    {
      "cell_type": "markdown",
      "metadata": {
        "id": "view-in-github",
        "colab_type": "text"
      },
      "source": [
        "<a href=\"https://colab.research.google.com/github/kuresh02/Hotel_Booking_EDA/blob/main/Copy_of_Hotel_Booking_Analysis_Capstone_Project.ipynb\" target=\"_parent\"><img src=\"https://colab.research.google.com/assets/colab-badge.svg\" alt=\"Open In Colab\"/></a>"
      ]
    },
    {
      "cell_type": "markdown",
      "metadata": {
        "id": "Y06xIdG26kRF"
      },
      "source": [
        "## <b> Have you ever wondered when the best time of year to book a hotel room is? Or the optimal length of stay in order to get the best daily rate? What if you wanted to predict whether or not a hotel was likely to receive a disproportionately high number of special requests? This hotel booking dataset can help you explore those questions!\n",
        "\n",
        "## <b>This data set contains booking information for a city hotel and a resort hotel, and includes information such as when the booking was made, length of stay, the number of adults, children, and/or babies, and the number of available parking spaces, among other things. All personally identifying information has been removed from the data. </b>\n",
        "\n",
        "## <b> Explore and analyze the data to discover important factors that govern the bookings. </b>"
      ]
    },
    {
      "cell_type": "markdown",
      "source": [
        "\n",
        "# Importing_Libraries"
      ],
      "metadata": {
        "id": "w7MCtSPXtuVD"
      }
    },
    {
      "cell_type": "code",
      "source": [
        "\n",
        "# Importing python libraries\n",
        "import pandas as pd\n",
        "import numpy as np\n",
        "import matplotlib\n",
        "import matplotlib.pyplot as plt\n",
        "import seaborn as sns\n",
        "from tabulate import tabulate\n",
        "import folium\n",
        "import plotly.express as px\n",
        "#It is a magic function that renders the figure in a notebook\n",
        "%matplotlib inline \n",
        "\n",
        "# Set maximum columns to be display in datafram as 36\n",
        "pd.set_option(\"display.max_columns\", 36)\n",
        "plt.style.use('seaborn')\n",
        "\n",
        "# Setting fontsizes,fontweight,label weight for lebels,titles.\n",
        "plt.rcParams[\"font.weight\"] = \"bold\"\n",
        "plt.rcParams[\"axes.labelweight\"] = \"bold\"\n",
        "plt.rcParams[\"axes.titlesize\"] = 25\n",
        "plt.rcParams[\"axes.titleweight\"] = 'bold'\n",
        "plt.rcParams['xtick.labelsize']=15\n",
        "plt.rcParams['ytick.labelsize']=15\n",
        "plt.rcParams[\"axes.labelsize\"] = 20\n",
        "plt.rcParams[\"legend.fontsize\"] = 15\n",
        "plt.rcParams[\"legend.title_fontsize\"] = 15"
      ],
      "metadata": {
        "id": "DsUyAzmzozLh"
      },
      "execution_count": null,
      "outputs": []
    },
    {
      "cell_type": "markdown",
      "source": [
        "# Mounting_Drive"
      ],
      "metadata": {
        "id": "yk3QxZp5zV9W"
      }
    },
    {
      "cell_type": "code",
      "source": [
        "#mounting driver from google\n",
        "from google.colab import drive\n",
        "drive.mount('/content/drive')"
      ],
      "metadata": {
        "id": "OFPHCTq_d9cR",
        "colab": {
          "base_uri": "https://localhost:8080/"
        },
        "outputId": "6fbd73bf-d3ad-4c6b-abe4-ab4a300b4718"
      },
      "execution_count": null,
      "outputs": [
        {
          "output_type": "stream",
          "name": "stdout",
          "text": [
            "Mounted at /content/drive\n"
          ]
        }
      ]
    },
    {
      "cell_type": "markdown",
      "source": [
        "# Csv_File_Location"
      ],
      "metadata": {
        "id": "krycp8sS1nqq"
      }
    },
    {
      "cell_type": "code",
      "source": [
        "#csv file location\n",
        "data_file_path=\"/content/drive/MyDrive/Capstone_Project/Capstone_Project_01_Exploratory Data Analysis/Project_Colab_NoteBook_&_Data/Data/Hotel Bookings.csv\"\n"
      ],
      "metadata": {
        "id": "rs2hc_8d1h7z"
      },
      "execution_count": null,
      "outputs": []
    },
    {
      "cell_type": "markdown",
      "source": [
        "# Reading_Data_From_Csv_File"
      ],
      "metadata": {
        "id": "OTx1P8dQ2F3C"
      }
    },
    {
      "cell_type": "code",
      "source": [
        "# reading csv file\n",
        "\n",
        "df= pd.read_csv(data_file_path)   \n",
        "df.shape # understanding the total row and column by size"
      ],
      "metadata": {
        "id": "XHss-u4H2Saf",
        "colab": {
          "base_uri": "https://localhost:8080/"
        },
        "outputId": "1df2711f-d68b-4b4a-82d5-0aceeeeae6f5"
      },
      "execution_count": null,
      "outputs": [
        {
          "output_type": "execute_result",
          "data": {
            "text/plain": [
              "(119390, 32)"
            ]
          },
          "metadata": {},
          "execution_count": 5
        }
      ]
    },
    {
      "cell_type": "markdown",
      "source": [
        "# Checking_Data_Frame_Shape(Row and Columns)"
      ],
      "metadata": {
        "id": "qxWEniRc5SuG"
      }
    },
    {
      "cell_type": "code",
      "source": [
        "#checking the number of rows and column numbers\n",
        "print(type(df))\n",
        "print(f' Our DataFrame have total {df.shape[0]} of rows.')\n",
        "print(f' Our DataFrame have total {df.shape[1]} of columns.')"
      ],
      "metadata": {
        "id": "dtMM_oLW7JyH",
        "colab": {
          "base_uri": "https://localhost:8080/"
        },
        "outputId": "09248d6d-c9ca-4b43-8b9f-838241d7e66e"
      },
      "execution_count": null,
      "outputs": [
        {
          "output_type": "stream",
          "name": "stdout",
          "text": [
            "<class 'pandas.core.frame.DataFrame'>\n",
            " Our DataFrame have total 119390 of rows.\n",
            " Our DataFrame have total 32 of columns.\n"
          ]
        }
      ]
    },
    {
      "cell_type": "markdown",
      "source": [
        "# DataFrame_Exploration"
      ],
      "metadata": {
        "id": "8_trC_lh72y4"
      }
    },
    {
      "cell_type": "markdown",
      "source": [
        "### Checking_1st_five_row"
      ],
      "metadata": {
        "id": "Sjzus2dn8V32"
      }
    },
    {
      "cell_type": "code",
      "source": [
        "# Checking first 5 rows\n",
        "df.head() # by default it show 5 number of row data"
      ],
      "metadata": {
        "id": "3TwBjCdn78MD"
      },
      "execution_count": null,
      "outputs": []
    },
    {
      "cell_type": "markdown",
      "source": [
        "### Checking_last_five_row"
      ],
      "metadata": {
        "id": "gyb-gRLv8hN2"
      }
    },
    {
      "cell_type": "code",
      "source": [
        "# Checking last 5 rows\n",
        "df.tail() # by default it show 5 number of row data"
      ],
      "metadata": {
        "id": "660HU3lV8UBy"
      },
      "execution_count": null,
      "outputs": []
    },
    {
      "cell_type": "markdown",
      "source": [
        "### Summary_statistics_of_the_Series_or_Dataframe"
      ],
      "metadata": {
        "id": "I9ErpQv78xK3"
      }
    },
    {
      "cell_type": "code",
      "source": [
        "#Showing at the min, max values,mean values etc for each and every columns. \n",
        "df.describe(include='all') # NAN values for mean,25% ,50%,75%,max indicates those are categorical columns."
      ],
      "metadata": {
        "id": "achB4hn78yEf"
      },
      "execution_count": null,
      "outputs": []
    },
    {
      "cell_type": "markdown",
      "source": [
        "### Column_with_data_types_with_non_null_entries"
      ],
      "metadata": {
        "id": "jeKybyMY9uo7"
      }
    },
    {
      "cell_type": "code",
      "source": [
        "df.info()"
      ],
      "metadata": {
        "id": "V5X5fT0L9ufW"
      },
      "execution_count": null,
      "outputs": []
    },
    {
      "cell_type": "markdown",
      "source": [
        "## ------------------Finding_Name_Of_Column-----------------------"
      ],
      "metadata": {
        "id": "FDNwWStmaA_v"
      }
    },
    {
      "cell_type": "code",
      "source": [
        "#Create a new copy of dataframe\n",
        "df_copy=df.copy()\n",
        "#print the dataframe Column\n",
        "print(list(df_copy.columns))\n"
      ],
      "metadata": {
        "id": "Y2YWeP4AaOIc",
        "colab": {
          "base_uri": "https://localhost:8080/"
        },
        "outputId": "df97d59c-89cd-4863-dcd9-99b0f28f3ab4"
      },
      "execution_count": null,
      "outputs": [
        {
          "output_type": "stream",
          "name": "stdout",
          "text": [
            "['hotel', 'is_canceled', 'lead_time', 'arrival_date_year', 'arrival_date_month', 'arrival_date_week_number', 'arrival_date_day_of_month', 'stays_in_weekend_nights', 'stays_in_week_nights', 'adults', 'children', 'babies', 'meal', 'country', 'market_segment', 'distribution_channel', 'is_repeated_guest', 'previous_cancellations', 'previous_bookings_not_canceled', 'reserved_room_type', 'assigned_room_type', 'booking_changes', 'deposit_type', 'agent', 'company', 'days_in_waiting_list', 'customer_type', 'adr', 'required_car_parking_spaces', 'total_of_special_requests', 'reservation_status', 'reservation_status_date']\n"
          ]
        }
      ]
    },
    {
      "cell_type": "markdown",
      "source": [
        "### 1) We have to understand what are the  column present in our dataframe\n",
        "### 2) From that we can easy understand about our data dataframe by see unique value by every individual."
      ],
      "metadata": {
        "id": "udjCe92xcBMu"
      }
    },
    {
      "cell_type": "markdown",
      "source": [
        "### Types_Of_Hotel"
      ],
      "metadata": {
        "id": "cvB8Vbt_i97H"
      }
    },
    {
      "cell_type": "code",
      "source": [
        "# types of hotel\n",
        "df_copy['hotel'].unique()"
      ],
      "metadata": {
        "id": "R_b8coLZdPLv",
        "colab": {
          "base_uri": "https://localhost:8080/"
        },
        "outputId": "9f3872ec-d61c-4cad-884b-826ff44a377b"
      },
      "execution_count": null,
      "outputs": [
        {
          "output_type": "execute_result",
          "data": {
            "text/plain": [
              "array(['Resort Hotel', 'City Hotel'], dtype=object)"
            ]
          },
          "metadata": {},
          "execution_count": 13
        }
      ]
    },
    {
      "cell_type": "markdown",
      "source": [
        "### Canceled_Types"
      ],
      "metadata": {
        "id": "hI2bTImCjI2e"
      }
    },
    {
      "cell_type": "code",
      "source": [
        "# canceled or not \n",
        "df_copy['is_canceled'].unique()"
      ],
      "metadata": {
        "id": "Wc6vADR8dZuG",
        "colab": {
          "base_uri": "https://localhost:8080/"
        },
        "outputId": "3dfecda9-0331-4644-e7b1-55a255585fff"
      },
      "execution_count": null,
      "outputs": [
        {
          "output_type": "execute_result",
          "data": {
            "text/plain": [
              "array([0, 1])"
            ]
          },
          "metadata": {},
          "execution_count": 14
        }
      ]
    },
    {
      "cell_type": "markdown",
      "source": [
        "### Arrival_Date_Year"
      ],
      "metadata": {
        "id": "i7YdoslhjSsP"
      }
    },
    {
      "cell_type": "code",
      "source": [
        "# arrival date years\n",
        "df_copy['arrival_date_year'].unique()"
      ],
      "metadata": {
        "id": "1Xq5Qz0Cdv6u",
        "colab": {
          "base_uri": "https://localhost:8080/"
        },
        "outputId": "83487fc9-41c1-4fbc-cf27-bb23793f8d77"
      },
      "execution_count": null,
      "outputs": [
        {
          "output_type": "execute_result",
          "data": {
            "text/plain": [
              "array([2015, 2016, 2017])"
            ]
          },
          "metadata": {},
          "execution_count": 15
        }
      ]
    },
    {
      "cell_type": "markdown",
      "source": [
        "### Meal_Type"
      ],
      "metadata": {
        "id": "4UlotYq6jXW3"
      }
    },
    {
      "cell_type": "code",
      "source": [
        "# types of meal \n",
        "df_copy['meal'].unique()"
      ],
      "metadata": {
        "id": "85jh9xy2d2N2",
        "colab": {
          "base_uri": "https://localhost:8080/"
        },
        "outputId": "106ea1cf-aa1d-4acc-ff3c-d452f8bf53ee"
      },
      "execution_count": null,
      "outputs": [
        {
          "output_type": "execute_result",
          "data": {
            "text/plain": [
              "array(['BB', 'FB', 'HB', 'SC', 'Undefined'], dtype=object)"
            ]
          },
          "metadata": {},
          "execution_count": 16
        }
      ]
    },
    {
      "cell_type": "markdown",
      "source": [
        "### Country_Name"
      ],
      "metadata": {
        "id": "zjABEme5jfOP"
      }
    },
    {
      "cell_type": "code",
      "source": [
        "# types of country \n",
        "df_copy['country'].unique()"
      ],
      "metadata": {
        "id": "04Sq8RGUeM8e",
        "colab": {
          "base_uri": "https://localhost:8080/"
        },
        "outputId": "29dc4782-34a5-4c76-c39c-c6805f5b0f4d"
      },
      "execution_count": null,
      "outputs": [
        {
          "output_type": "execute_result",
          "data": {
            "text/plain": [
              "array(['PRT', 'GBR', 'USA', 'ESP', 'IRL', 'FRA', nan, 'ROU', 'NOR', 'OMN',\n",
              "       'ARG', 'POL', 'DEU', 'BEL', 'CHE', 'CN', 'GRC', 'ITA', 'NLD',\n",
              "       'DNK', 'RUS', 'SWE', 'AUS', 'EST', 'CZE', 'BRA', 'FIN', 'MOZ',\n",
              "       'BWA', 'LUX', 'SVN', 'ALB', 'IND', 'CHN', 'MEX', 'MAR', 'UKR',\n",
              "       'SMR', 'LVA', 'PRI', 'SRB', 'CHL', 'AUT', 'BLR', 'LTU', 'TUR',\n",
              "       'ZAF', 'AGO', 'ISR', 'CYM', 'ZMB', 'CPV', 'ZWE', 'DZA', 'KOR',\n",
              "       'CRI', 'HUN', 'ARE', 'TUN', 'JAM', 'HRV', 'HKG', 'IRN', 'GEO',\n",
              "       'AND', 'GIB', 'URY', 'JEY', 'CAF', 'CYP', 'COL', 'GGY', 'KWT',\n",
              "       'NGA', 'MDV', 'VEN', 'SVK', 'FJI', 'KAZ', 'PAK', 'IDN', 'LBN',\n",
              "       'PHL', 'SEN', 'SYC', 'AZE', 'BHR', 'NZL', 'THA', 'DOM', 'MKD',\n",
              "       'MYS', 'ARM', 'JPN', 'LKA', 'CUB', 'CMR', 'BIH', 'MUS', 'COM',\n",
              "       'SUR', 'UGA', 'BGR', 'CIV', 'JOR', 'SYR', 'SGP', 'BDI', 'SAU',\n",
              "       'VNM', 'PLW', 'QAT', 'EGY', 'PER', 'MLT', 'MWI', 'ECU', 'MDG',\n",
              "       'ISL', 'UZB', 'NPL', 'BHS', 'MAC', 'TGO', 'TWN', 'DJI', 'STP',\n",
              "       'KNA', 'ETH', 'IRQ', 'HND', 'RWA', 'KHM', 'MCO', 'BGD', 'IMN',\n",
              "       'TJK', 'NIC', 'BEN', 'VGB', 'TZA', 'GAB', 'GHA', 'TMP', 'GLP',\n",
              "       'KEN', 'LIE', 'GNB', 'MNE', 'UMI', 'MYT', 'FRO', 'MMR', 'PAN',\n",
              "       'BFA', 'LBY', 'MLI', 'NAM', 'BOL', 'PRY', 'BRB', 'ABW', 'AIA',\n",
              "       'SLV', 'DMA', 'PYF', 'GUY', 'LCA', 'ATA', 'GTM', 'ASM', 'MRT',\n",
              "       'NCL', 'KIR', 'SDN', 'ATF', 'SLE', 'LAO'], dtype=object)"
            ]
          },
          "metadata": {},
          "execution_count": 17
        }
      ]
    },
    {
      "cell_type": "markdown",
      "source": [
        "### Types_Of_Market_Sagment"
      ],
      "metadata": {
        "id": "tFu8hzNQju4n"
      }
    },
    {
      "cell_type": "code",
      "source": [
        "# types of market_segment \n",
        "df_copy['market_segment'].unique()"
      ],
      "metadata": {
        "id": "Ai_y-t5TeXrv",
        "colab": {
          "base_uri": "https://localhost:8080/"
        },
        "outputId": "a66ce5c9-095e-446e-c268-d430abc777db"
      },
      "execution_count": null,
      "outputs": [
        {
          "output_type": "execute_result",
          "data": {
            "text/plain": [
              "array(['Direct', 'Corporate', 'Online TA', 'Offline TA/TO',\n",
              "       'Complementary', 'Groups', 'Undefined', 'Aviation'], dtype=object)"
            ]
          },
          "metadata": {},
          "execution_count": 18
        }
      ]
    },
    {
      "cell_type": "markdown",
      "source": [
        "### Types_Of_Distrubution_Channel"
      ],
      "metadata": {
        "id": "sNz9S5HKj5eQ"
      }
    },
    {
      "cell_type": "code",
      "source": [
        "# types of distribution_channel \n",
        "df_copy['distribution_channel'].unique()"
      ],
      "metadata": {
        "colab": {
          "base_uri": "https://localhost:8080/"
        },
        "id": "y6IAW712ewIO",
        "outputId": "e3a511b5-449c-410e-90e2-6e64206e364b"
      },
      "execution_count": null,
      "outputs": [
        {
          "output_type": "execute_result",
          "data": {
            "text/plain": [
              "array(['Direct', 'Corporate', 'TA/TO', 'Undefined', 'GDS'], dtype=object)"
            ]
          },
          "metadata": {},
          "execution_count": 19
        }
      ]
    },
    {
      "cell_type": "markdown",
      "source": [
        "### Types_Of_Rooms"
      ],
      "metadata": {
        "id": "ByyoQw_Gj73f"
      }
    },
    {
      "cell_type": "code",
      "source": [
        "# types of reserved_room_type \n",
        "first_set=set(df_copy['reserved_room_type'].unique()) # types of reserved_room_type \n",
        "\n",
        "second_set=set(df_copy['assigned_room_type'].unique()) # types of assigned_room_type \n",
        "\n",
        "Total_room_type=first_set.union(second_set) \n",
        "print(sorted(Total_room_type)) #types of room preset for Hotel Booking"
      ],
      "metadata": {
        "id": "e228SID4evwe",
        "colab": {
          "base_uri": "https://localhost:8080/"
        },
        "outputId": "1a15f551-a6dd-4f21-e59f-823e8283f774"
      },
      "execution_count": null,
      "outputs": [
        {
          "output_type": "stream",
          "name": "stdout",
          "text": [
            "['A', 'B', 'C', 'D', 'E', 'F', 'G', 'H', 'I', 'K', 'L', 'P']\n"
          ]
        }
      ]
    },
    {
      "cell_type": "markdown",
      "source": [
        "### Deposit_Type"
      ],
      "metadata": {
        "id": "ZQtzjR9Yj8vv"
      }
    },
    {
      "cell_type": "code",
      "source": [
        "# types of deposit_type available\n",
        "(df_copy['deposit_type'].unique()) # types of deposit_type "
      ],
      "metadata": {
        "id": "h3V2sU7piBYL",
        "colab": {
          "base_uri": "https://localhost:8080/"
        },
        "outputId": "08fad471-dbcf-48b4-fc9a-de0b7b235e08"
      },
      "execution_count": null,
      "outputs": [
        {
          "output_type": "execute_result",
          "data": {
            "text/plain": [
              "array(['No Deposit', 'Refundable', 'Non Refund'], dtype=object)"
            ]
          },
          "metadata": {},
          "execution_count": 7
        }
      ]
    },
    {
      "cell_type": "markdown",
      "source": [
        "### Distribution_Channel_Type"
      ],
      "metadata": {
        "id": "c7ueBTLoj9ZP"
      }
    },
    {
      "cell_type": "code",
      "source": [
        "# types of distribution_channel available\n",
        "\n",
        "df_copy['distribution_channel'].unique()"
      ],
      "metadata": {
        "colab": {
          "base_uri": "https://localhost:8080/"
        },
        "id": "8jaLeWInikou",
        "outputId": "46de281e-2031-4e59-e376-933f16f2bed1"
      },
      "execution_count": null,
      "outputs": [
        {
          "output_type": "execute_result",
          "data": {
            "text/plain": [
              "array(['Direct', 'Corporate', 'TA/TO', 'Undefined', 'GDS'], dtype=object)"
            ]
          },
          "metadata": {},
          "execution_count": 8
        }
      ]
    },
    {
      "cell_type": "markdown",
      "source": [
        "# Clearing Data Process"
      ],
      "metadata": {
        "id": "vZ01MBtElJmw"
      }
    },
    {
      "cell_type": "markdown",
      "source": [
        "###The most important steps before going for the  EDA(Exploratory Data Analysis)\n",
        "###As we know clearing data will remove the conflict between any duplicate data/row.\n",
        "##We have to do the above data cleaning process through the following steps:-\n",
        "###1) Remove all duplicate rows.\n",
        "###2) Missing values finding and replacing with proper values\n",
        "###3) Change required column data types from string to appropriate datatypes.\n",
        "###4)  Adding some required new columns."
      ],
      "metadata": {
        "id": "7bbgnWDDlZIX"
      }
    },
    {
      "cell_type": "markdown",
      "source": [
        "## Step 1---> Remove all duplicate rows."
      ],
      "metadata": {
        "id": "CRT_NZN-pLQS"
      }
    },
    {
      "cell_type": "code",
      "source": [
        "#total number to duplicated rows and number of columns present in dataframe\n",
        "df_duplicate_value=(df_copy[df_copy.duplicated()].shape)\n",
        "print(df_duplicate_value)\n",
        "\n"
      ],
      "metadata": {
        "colab": {
          "base_uri": "https://localhost:8080/"
        },
        "id": "zk-2v91qpKMh",
        "outputId": "d965b0cc-7e44-4070-8cb4-07023ce7fa76"
      },
      "execution_count": null,
      "outputs": [
        {
          "output_type": "stream",
          "name": "stdout",
          "text": [
            "(31994, 32)\n"
          ]
        }
      ]
    },
    {
      "cell_type": "code",
      "source": [
        "# checking for the duplicate rows\n",
        "df_copy.duplicated().value_counts()   #true means duplicate rows"
      ],
      "metadata": {
        "colab": {
          "base_uri": "https://localhost:8080/"
        },
        "id": "66ICN4D-3Vr4",
        "outputId": "95d11d5c-64cb-4c75-abdc-c954045851b2"
      },
      "execution_count": null,
      "outputs": [
        {
          "output_type": "execute_result",
          "data": {
            "text/plain": [
              "False    87396\n",
              "True     31994\n",
              "dtype: int64"
            ]
          },
          "metadata": {},
          "execution_count": 16
        }
      ]
    },
    {
      "cell_type": "code",
      "source": [
        "# Plot a graph with respect to duplicate value\n",
        "plt.figure(figsize=(5,8))\n",
        "\n",
        "sns.set_theme(style=\"whitegrid\")\n",
        "sns.countplot(x=df_copy.duplicated())\n",
        "\n",
        "no_of_duplicate_row=(df_duplicate_value[0])\n",
        "print(f\"Duplicate Row Number {no_of_duplicate_row}\")\n"
      ],
      "metadata": {
        "colab": {
          "base_uri": "https://localhost:8080/",
          "height": 502
        },
        "id": "7ETxMObf3c94",
        "outputId": "c34f23be-5cd6-4ed8-ad6f-f25bf6a9011d"
      },
      "execution_count": null,
      "outputs": [
        {
          "output_type": "stream",
          "name": "stdout",
          "text": [
            "Duplicate Row Number 31994\n"
          ]
        },
        {
          "output_type": "display_data",
          "data": {
            "text/plain": [
              "<Figure size 360x576 with 1 Axes>"
            ],
            "image/png": "[encoded data removed]"
          },
          "metadata": {
            "needs_background": "light"
          }
        }
      ]
    },
    {
      "cell_type": "markdown",
      "source": [
        "So we have 31994 duplicate rows in our data. So we will drop the duplicate rows from our data by drop the row "
      ],
      "metadata": {
        "id": "N7shcT8U3l1i"
      }
    },
    {
      "cell_type": "code",
      "source": [
        "# Dropping the duplicate values\n",
        "df_copy.drop_duplicates(inplace = True)"
      ],
      "metadata": {
        "id": "bSkkjQaoqTZI"
      },
      "execution_count": null,
      "outputs": []
    },
    {
      "cell_type": "code",
      "source": [
        "# New row size after drop of duplicate row\n",
        "df_copy.shape"
      ],
      "metadata": {
        "colab": {
          "base_uri": "https://localhost:8080/"
        },
        "id": "aMiiaoDrqj05",
        "outputId": "e62665bd-2b87-4779-ec2e-d0aafaabb9eb"
      },
      "execution_count": null,
      "outputs": [
        {
          "output_type": "execute_result",
          "data": {
            "text/plain": [
              "(87396, 32)"
            ]
          },
          "metadata": {},
          "execution_count": 19
        }
      ]
    },
    {
      "cell_type": "markdown",
      "source": [
        "## Step 2---> Missing values finding and replacing with proper values."
      ],
      "metadata": {
        "id": "nyz3n4h1qsvf"
      }
    },
    {
      "cell_type": "code",
      "source": [
        "## Check any Null value present in columns\n",
        "df_copy.isnull().sum().sort_values(ascending=False)[:6].reset_index().rename(columns={'index':'Columns',0:'Null values'})"
      ],
      "metadata": {
        "id": "nfW-tzVVqsfv"
      },
      "execution_count": null,
      "outputs": []
    },
    {
      "cell_type": "code",
      "source": [
        "# graphical heat map for all null value in column\n",
        "\n",
        "plt.figure(figsize=(24,10))\n",
        "sns.heatmap(df_copy.isnull(), cbar=False, yticklabels=False,cmap='viridis')\n",
        "plt.xlabel(\"Name Of Columns\")\n",
        "plt.title(\"Places of missing values in column\")"
      ],
      "metadata": {
        "id": "f1D2Zw8w5QJa"
      },
      "execution_count": null,
      "outputs": []
    },
    {
      "cell_type": "markdown",
      "source": [
        "## 1) From above data  we can clearly mark that some people who book rooms are not depends upon any agent or company fpr their booking room.\n",
        "## 2) Here  only 4 Columns have Null value so to make this data a meaning full values we have to remove the Null value  there and replace with 0.\n"
      ],
      "metadata": {
        "id": "4drbymDaAh1F"
      }
    },
    {
      "cell_type": "code",
      "source": [
        "# replacing Nan to 0\n",
        "df_copy = df_copy.replace(np.NaN, 0)\n",
        "df_copy.isnull().sum().sort_values(ascending=False)[:6].reset_index().rename(columns={'index':'Columns',int(0):'Null values'})\n",
        "df_copy.head(5)\n"
      ],
      "metadata": {
        "id": "m0RRM66MB5zp"
      },
      "execution_count": null,
      "outputs": []
    },
    {
      "cell_type": "markdown",
      "source": [
        "## Step 3---> Change required column data types from string to appropriate datatypes."
      ],
      "metadata": {
        "id": "nKDi6ROGIUYz"
      }
    },
    {
      "cell_type": "code",
      "source": [
        "# Change  datatype of columns 'children', 'company' and 'agent' from float to int.\n",
        "df_copy[['children', 'agent', 'company']] = df_copy[['children', 'agent','company']].astype('int64')\n",
        "df_copy[\"reservation_status_date\"]=pd.to_datetime(df_copy[\"reservation_status_date\"], format = '%Y-%m-%d')\n",
        "# df_copy['reservation_status_date']=pd.to_datetime(df1['reservation_status_date'], format = '%Y-%m-%d')"
      ],
      "metadata": {
        "id": "JmyW8Wu7Ievb"
      },
      "execution_count": null,
      "outputs": []
    },
    {
      "cell_type": "markdown",
      "source": [
        "## Step 4--->Adding some required new columns."
      ],
      "metadata": {
        "id": "mKLbO4TCPSLJ"
      }
    },
    {
      "cell_type": "markdown",
      "source": [
        "## New Column for Total_Day"
      ],
      "metadata": {
        "id": "_-fzIAlfQIgU"
      }
    },
    {
      "cell_type": "code",
      "source": [
        "# total days staying in hotels\n",
        "df_copy['total_day'] = (df_copy['stays_in_weekend_nights']+df_copy['stays_in_week_nights'])\n",
        "\n"
      ],
      "metadata": {
        "id": "IN_KTWzLPfmt"
      },
      "execution_count": null,
      "outputs": []
    },
    {
      "cell_type": "markdown",
      "source": [
        "### New Column for Total_People"
      ],
      "metadata": {
        "id": "8InuFtwdQXi0"
      }
    },
    {
      "cell_type": "code",
      "source": [
        "# Adding total people total_people = num of adults + children + babies\n",
        "df_copy['total_people'] = df_copy['adults']+df_copy['children']+df_copy['babies']\n",
        "print(df_copy['total_people'])"
      ],
      "metadata": {
        "id": "j2GIq2KEQWtK",
        "colab": {
          "base_uri": "https://localhost:8080/"
        },
        "outputId": "48898535-6575-4a7f-c891-3149d9a065b7"
      },
      "execution_count": null,
      "outputs": [
        {
          "output_type": "stream",
          "name": "stdout",
          "text": [
            "0         2.0\n",
            "1         2.0\n",
            "2         1.0\n",
            "3         1.0\n",
            "4         2.0\n",
            "         ... \n",
            "119385    2.0\n",
            "119386    3.0\n",
            "119387    2.0\n",
            "119388    2.0\n",
            "119389    2.0\n",
            "Name: total_people, Length: 119390, dtype: float64\n"
          ]
        }
      ]
    },
    {
      "cell_type": "markdown",
      "source": [
        "# EDA----->(Exploratory_Data_Analysis)"
      ],
      "metadata": {
        "id": "o6vU3w75k7f-"
      }
    },
    {
      "cell_type": "markdown",
      "source": [
        "# 1) Which Year most room booking happen?"
      ],
      "metadata": {
        "id": "l4pJGFkInQN6"
      }
    },
    {
      "cell_type": "code",
      "source": [
        "# return highest bookings made in a year\n",
        "highest_bookings= df_copy.groupby(['arrival_date_year'])['arrival_date_year'].agg({'count'}).reset_index().rename(columns={'count': \"Most_Bookings\" }).sort_values(by='Most_Bookings',ascending=False)\n",
        "# bookings made in a year\n",
        "top_ten_highest_bookings=highest_bookings[:]\n",
        "top_ten_highest_bookings"
      ],
      "metadata": {
        "id": "cj2q9aSclDXT",
        "colab": {
          "base_uri": "https://localhost:8080/",
          "height": 143
        },
        "outputId": "e5bbd270-eb5c-45de-d99e-961d21b81866"
      },
      "execution_count": null,
      "outputs": [
        {
          "output_type": "execute_result",
          "data": {
            "text/plain": [
              "   arrival_date_year  Most_Bookings\n",
              "1               2016          56707\n",
              "2               2017          40687\n",
              "0               2015          21996"
            ],
            "text/html": [
              "\n",
              "  <div id=\"df-ac9bba6c-605d-4bd7-aff2-eebf973a7088\">\n",
              "    <div class=\"colab-df-container\">\n",
              "      <div>\n",
              "<style scoped>\n",
              "    .dataframe tbody tr th:only-of-type {\n",
              "        vertical-align: middle;\n",
              "    }\n",
              "\n",
              "    .dataframe tbody tr th {\n",
              "        vertical-align: top;\n",
              "    }\n",
              "\n",
              "    .dataframe thead th {\n",
              "        text-align: right;\n",
              "    }\n",
              "</style>\n",
              "<table border=\"1\" class=\"dataframe\">\n",
              "  <thead>\n",
              "    <tr style=\"text-align: right;\">\n",
              "      <th></th>\n",
              "      <th>arrival_date_year</th>\n",
              "      <th>Most_Bookings</th>\n",
              "    </tr>\n",
              "  </thead>\n",
              "  <tbody>\n",
              "    <tr>\n",
              "      <th>1</th>\n",
              "      <td>2016</td>\n",
              "      <td>56707</td>\n",
              "    </tr>\n",
              "    <tr>\n",
              "      <th>2</th>\n",
              "      <td>2017</td>\n",
              "      <td>40687</td>\n",
              "    </tr>\n",
              "    <tr>\n",
              "      <th>0</th>\n",
              "      <td>2015</td>\n",
              "      <td>21996</td>\n",
              "    </tr>\n",
              "  </tbody>\n",
              "</table>\n",
              "</div>\n",
              "      <button class=\"colab-df-convert\" onclick=\"convertToInteractive('df-ac9bba6c-605d-4bd7-aff2-eebf973a7088')\"\n",
              "              title=\"Convert this dataframe to an interactive table.\"\n",
              "              style=\"display:none;\">\n",
              "        \n",
              "  <svg xmlns=\"http://www.w3.org/2000/svg\" height=\"24px\"viewBox=\"0 0 24 24\"\n",
              "       width=\"24px\">\n",
              "    <path d=\"M0 0h24v24H0V0z\" fill=\"none\"/>\n",
              "    <path d=\"M18.56 5.44l.94 2.06.94-2.06 2.06-.94-2.06-.94-.94-2.06-.94 2.06-2.06.94zm-11 1L8.5 8.5l.94-2.06 2.06-.94-2.06-.94L8.5 2.5l-.94 2.06-2.06.94zm10 10l.94 2.06.94-2.06 2.06-.94-2.06-.94-.94-2.06-.94 2.06-2.06.94z\"/><path d=\"M17.41 7.96l-1.37-1.37c-.4-.4-.92-.59-1.43-.59-.52 0-1.04.2-1.43.59L10.3 9.45l-7.72 7.72c-.78.78-.78 2.05 0 2.83L4 21.41c.39.39.9.59 1.41.59.51 0 1.02-.2 1.41-.59l7.78-7.78 2.81-2.81c.8-.78.8-2.07 0-2.86zM5.41 20L4 18.59l7.72-7.72 1.47 1.35L5.41 20z\"/>\n",
              "  </svg>\n",
              "      </button>\n",
              "      \n",
              "  <style>\n",
              "    .colab-df-container {\n",
              "      display:flex;\n",
              "      flex-wrap:wrap;\n",
              "      gap: 12px;\n",
              "    }\n",
              "\n",
              "    .colab-df-convert {\n",
              "      background-color: #E8F0FE;\n",
              "      border: none;\n",
              "      border-radius: 50%;\n",
              "      cursor: pointer;\n",
              "      display: none;\n",
              "      fill: #1967D2;\n",
              "      height: 32px;\n",
              "      padding: 0 0 0 0;\n",
              "      width: 32px;\n",
              "    }\n",
              "\n",
              "    .colab-df-convert:hover {\n",
              "      background-color: #E2EBFA;\n",
              "      box-shadow: 0px 1px 2px rgba(60, 64, 67, 0.3), 0px 1px 3px 1px rgba(60, 64, 67, 0.15);\n",
              "      fill: #174EA6;\n",
              "    }\n",
              "\n",
              "    [theme=dark] .colab-df-convert {\n",
              "      background-color: #3B4455;\n",
              "      fill: #D2E3FC;\n",
              "    }\n",
              "\n",
              "    [theme=dark] .colab-df-convert:hover {\n",
              "      background-color: #434B5C;\n",
              "      box-shadow: 0px 1px 3px 1px rgba(0, 0, 0, 0.15);\n",
              "      filter: drop-shadow(0px 1px 2px rgba(0, 0, 0, 0.3));\n",
              "      fill: #FFFFFF;\n",
              "    }\n",
              "  </style>\n",
              "\n",
              "      <script>\n",
              "        const buttonEl =\n",
              "          document.querySelector('#df-ac9bba6c-605d-4bd7-aff2-eebf973a7088 button.colab-df-convert');\n",
              "        buttonEl.style.display =\n",
              "          google.colab.kernel.accessAllowed ? 'block' : 'none';\n",
              "\n",
              "        async function convertToInteractive(key) {\n",
              "          const element = document.querySelector('#df-ac9bba6c-605d-4bd7-aff2-eebf973a7088');\n",
              "          const dataTable =\n",
              "            await google.colab.kernel.invokeFunction('convertToInteractive',\n",
              "                                                     [key], {});\n",
              "          if (!dataTable) return;\n",
              "\n",
              "          const docLinkHtml = 'Like what you see? Visit the ' +\n",
              "            '<a target=\"_blank\" href=https://colab.research.google.com/notebooks/data_table.ipynb>data table notebook</a>'\n",
              "            + ' to learn more about interactive tables.';\n",
              "          element.innerHTML = '';\n",
              "          dataTable['output_type'] = 'display_data';\n",
              "          await google.colab.output.renderOutput(dataTable, element);\n",
              "          const docLink = document.createElement('div');\n",
              "          docLink.innerHTML = docLinkHtml;\n",
              "          element.appendChild(docLink);\n",
              "        }\n",
              "      </script>\n",
              "    </div>\n",
              "  </div>\n",
              "  "
            ]
          },
          "metadata": {},
          "execution_count": 23
        }
      ]
    },
    {
      "cell_type": "markdown",
      "source": [
        "### Visualizing_by_plotting_graph"
      ],
      "metadata": {
        "id": "FIINj6zI9B66"
      }
    },
    {
      "cell_type": "code",
      "source": [
        "#set plotsize\n",
        "plt.figure(figsize=(7,8))\n",
        "#plotting of bar\n",
        "sns.countplot(x=df_copy['arrival_date_year'],order=df_copy['arrival_date_year'].value_counts().index)\n",
        "#  set x-label in plot\n",
        "plt.xlabel('Year')\n",
        "# set y-label in the plot\n",
        "plt.ylabel('Number of Booking')\n",
        "# set title for the plot\n",
        "plt.title(\"Year wise Booking\")"
      ],
      "metadata": {
        "id": "Zee5Smxsogtz",
        "colab": {
          "base_uri": "https://localhost:8080/",
          "height": 530
        },
        "outputId": "cb3a2e3e-9430-4ee6-9e74-a3954c1a6270"
      },
      "execution_count": null,
      "outputs": [
        {
          "output_type": "execute_result",
          "data": {
            "text/plain": [
              "Text(0.5, 1.0, 'Year wise Booking')"
            ]
          },
          "metadata": {},
          "execution_count": 25
        },
        {
          "output_type": "display_data",
          "data": {
            "text/plain": [
              "<Figure size 504x576 with 1 Axes>"
            ],
            "image/png": "[encoded data removed]"
          },
          "metadata": {
            "needs_background": "light"
          }
        }
      ]
    },
    {
      "cell_type": "markdown",
      "source": [
        "This graph represent above analysis and giving information that in 2016 highest number(56,707) of room booking happen and in 2015 lowest number(21,996) of booking happen.\n",
        "### New Section"
      ],
      "metadata": {
        "id": "bWn_jLX_39jW"
      }
    },
    {
      "cell_type": "markdown",
      "source": [
        "## Observation from the Graph \n",
        "### In the year 2016 Most number of Booking happend in Hotels."
      ],
      "metadata": {
        "id": "U0qZyggZxg6O"
      }
    },
    {
      "cell_type": "markdown",
      "source": [
        "# 2) Country With Highest Number of Booking"
      ],
      "metadata": {
        "id": "dUdiVziv3jwQ"
      }
    },
    {
      "cell_type": "code",
      "source": [
        "# return highest bookings made in a year\n",
        "country_list= df_copy.groupby(['country'])['country'].agg({'count'}).reset_index().rename(columns={'index': \"country\" }).sort_values(by='count',ascending=False)\n",
        "country_list.drop(country_list[country_list['country']==0].index,inplace=True) \n",
        "country_list=country_list[:20]\n",
        "country_list"
      ],
      "metadata": {
        "id": "l2QMDQd5n77j",
        "colab": {
          "base_uri": "https://localhost:8080/",
          "height": 676
        },
        "outputId": "6e262eea-96d7-4475-9533-873aaf2f77d9"
      },
      "execution_count": null,
      "outputs": [
        {
          "output_type": "execute_result",
          "data": {
            "text/plain": [
              "    country  count\n",
              "135     PRT  48590\n",
              "59      GBR  12129\n",
              "56      FRA  10415\n",
              "51      ESP   8568\n",
              "43      DEU   7287\n",
              "81      ITA   3766\n",
              "76      IRL   3375\n",
              "15      BEL   2342\n",
              "25      BRA   2224\n",
              "123     NLD   2104\n",
              "169     USA   2097\n",
              "29      CHE   1730\n",
              "34       CN   1279\n",
              "12      AUT   1263\n",
              "154     SWE   1024\n",
              "31      CHN    999\n",
              "133     POL    919\n",
              "80      ISR    669\n",
              "140     RUS    632\n",
              "124     NOR    607"
            ],
            "text/html": [
              "\n",
              "  <div id=\"df-06813532-8c7f-4f2a-826e-b1e8f0f3fdc1\">\n",
              "    <div class=\"colab-df-container\">\n",
              "      <div>\n",
              "<style scoped>\n",
              "    .dataframe tbody tr th:only-of-type {\n",
              "        vertical-align: middle;\n",
              "    }\n",
              "\n",
              "    .dataframe tbody tr th {\n",
              "        vertical-align: top;\n",
              "    }\n",
              "\n",
              "    .dataframe thead th {\n",
              "        text-align: right;\n",
              "    }\n",
              "</style>\n",
              "<table border=\"1\" class=\"dataframe\">\n",
              "  <thead>\n",
              "    <tr style=\"text-align: right;\">\n",
              "      <th></th>\n",
              "      <th>country</th>\n",
              "      <th>count</th>\n",
              "    </tr>\n",
              "  </thead>\n",
              "  <tbody>\n",
              "    <tr>\n",
              "      <th>135</th>\n",
              "      <td>PRT</td>\n",
              "      <td>48590</td>\n",
              "    </tr>\n",
              "    <tr>\n",
              "      <th>59</th>\n",
              "      <td>GBR</td>\n",
              "      <td>12129</td>\n",
              "    </tr>\n",
              "    <tr>\n",
              "      <th>56</th>\n",
              "      <td>FRA</td>\n",
              "      <td>10415</td>\n",
              "    </tr>\n",
              "    <tr>\n",
              "      <th>51</th>\n",
              "      <td>ESP</td>\n",
              "      <td>8568</td>\n",
              "    </tr>\n",
              "    <tr>\n",
              "      <th>43</th>\n",
              "      <td>DEU</td>\n",
              "      <td>7287</td>\n",
              "    </tr>\n",
              "    <tr>\n",
              "      <th>81</th>\n",
              "      <td>ITA</td>\n",
              "      <td>3766</td>\n",
              "    </tr>\n",
              "    <tr>\n",
              "      <th>76</th>\n",
              "      <td>IRL</td>\n",
              "      <td>3375</td>\n",
              "    </tr>\n",
              "    <tr>\n",
              "      <th>15</th>\n",
              "      <td>BEL</td>\n",
              "      <td>2342</td>\n",
              "    </tr>\n",
              "    <tr>\n",
              "      <th>25</th>\n",
              "      <td>BRA</td>\n",
              "      <td>2224</td>\n",
              "    </tr>\n",
              "    <tr>\n",
              "      <th>123</th>\n",
              "      <td>NLD</td>\n",
              "      <td>2104</td>\n",
              "    </tr>\n",
              "    <tr>\n",
              "      <th>169</th>\n",
              "      <td>USA</td>\n",
              "      <td>2097</td>\n",
              "    </tr>\n",
              "    <tr>\n",
              "      <th>29</th>\n",
              "      <td>CHE</td>\n",
              "      <td>1730</td>\n",
              "    </tr>\n",
              "    <tr>\n",
              "      <th>34</th>\n",
              "      <td>CN</td>\n",
              "      <td>1279</td>\n",
              "    </tr>\n",
              "    <tr>\n",
              "      <th>12</th>\n",
              "      <td>AUT</td>\n",
              "      <td>1263</td>\n",
              "    </tr>\n",
              "    <tr>\n",
              "      <th>154</th>\n",
              "      <td>SWE</td>\n",
              "      <td>1024</td>\n",
              "    </tr>\n",
              "    <tr>\n",
              "      <th>31</th>\n",
              "      <td>CHN</td>\n",
              "      <td>999</td>\n",
              "    </tr>\n",
              "    <tr>\n",
              "      <th>133</th>\n",
              "      <td>POL</td>\n",
              "      <td>919</td>\n",
              "    </tr>\n",
              "    <tr>\n",
              "      <th>80</th>\n",
              "      <td>ISR</td>\n",
              "      <td>669</td>\n",
              "    </tr>\n",
              "    <tr>\n",
              "      <th>140</th>\n",
              "      <td>RUS</td>\n",
              "      <td>632</td>\n",
              "    </tr>\n",
              "    <tr>\n",
              "      <th>124</th>\n",
              "      <td>NOR</td>\n",
              "      <td>607</td>\n",
              "    </tr>\n",
              "  </tbody>\n",
              "</table>\n",
              "</div>\n",
              "      <button class=\"colab-df-convert\" onclick=\"convertToInteractive('df-06813532-8c7f-4f2a-826e-b1e8f0f3fdc1')\"\n",
              "              title=\"Convert this dataframe to an interactive table.\"\n",
              "              style=\"display:none;\">\n",
              "        \n",
              "  <svg xmlns=\"http://www.w3.org/2000/svg\" height=\"24px\"viewBox=\"0 0 24 24\"\n",
              "       width=\"24px\">\n",
              "    <path d=\"M0 0h24v24H0V0z\" fill=\"none\"/>\n",
              "    <path d=\"M18.56 5.44l.94 2.06.94-2.06 2.06-.94-2.06-.94-.94-2.06-.94 2.06-2.06.94zm-11 1L8.5 8.5l.94-2.06 2.06-.94-2.06-.94L8.5 2.5l-.94 2.06-2.06.94zm10 10l.94 2.06.94-2.06 2.06-.94-2.06-.94-.94-2.06-.94 2.06-2.06.94z\"/><path d=\"M17.41 7.96l-1.37-1.37c-.4-.4-.92-.59-1.43-.59-.52 0-1.04.2-1.43.59L10.3 9.45l-7.72 7.72c-.78.78-.78 2.05 0 2.83L4 21.41c.39.39.9.59 1.41.59.51 0 1.02-.2 1.41-.59l7.78-7.78 2.81-2.81c.8-.78.8-2.07 0-2.86zM5.41 20L4 18.59l7.72-7.72 1.47 1.35L5.41 20z\"/>\n",
              "  </svg>\n",
              "      </button>\n",
              "      \n",
              "  <style>\n",
              "    .colab-df-container {\n",
              "      display:flex;\n",
              "      flex-wrap:wrap;\n",
              "      gap: 12px;\n",
              "    }\n",
              "\n",
              "    .colab-df-convert {\n",
              "      background-color: #E8F0FE;\n",
              "      border: none;\n",
              "      border-radius: 50%;\n",
              "      cursor: pointer;\n",
              "      display: none;\n",
              "      fill: #1967D2;\n",
              "      height: 32px;\n",
              "      padding: 0 0 0 0;\n",
              "      width: 32px;\n",
              "    }\n",
              "\n",
              "    .colab-df-convert:hover {\n",
              "      background-color: #E2EBFA;\n",
              "      box-shadow: 0px 1px 2px rgba(60, 64, 67, 0.3), 0px 1px 3px 1px rgba(60, 64, 67, 0.15);\n",
              "      fill: #174EA6;\n",
              "    }\n",
              "\n",
              "    [theme=dark] .colab-df-convert {\n",
              "      background-color: #3B4455;\n",
              "      fill: #D2E3FC;\n",
              "    }\n",
              "\n",
              "    [theme=dark] .colab-df-convert:hover {\n",
              "      background-color: #434B5C;\n",
              "      box-shadow: 0px 1px 3px 1px rgba(0, 0, 0, 0.15);\n",
              "      filter: drop-shadow(0px 1px 2px rgba(0, 0, 0, 0.3));\n",
              "      fill: #FFFFFF;\n",
              "    }\n",
              "  </style>\n",
              "\n",
              "      <script>\n",
              "        const buttonEl =\n",
              "          document.querySelector('#df-06813532-8c7f-4f2a-826e-b1e8f0f3fdc1 button.colab-df-convert');\n",
              "        buttonEl.style.display =\n",
              "          google.colab.kernel.accessAllowed ? 'block' : 'none';\n",
              "\n",
              "        async function convertToInteractive(key) {\n",
              "          const element = document.querySelector('#df-06813532-8c7f-4f2a-826e-b1e8f0f3fdc1');\n",
              "          const dataTable =\n",
              "            await google.colab.kernel.invokeFunction('convertToInteractive',\n",
              "                                                     [key], {});\n",
              "          if (!dataTable) return;\n",
              "\n",
              "          const docLinkHtml = 'Like what you see? Visit the ' +\n",
              "            '<a target=\"_blank\" href=https://colab.research.google.com/notebooks/data_table.ipynb>data table notebook</a>'\n",
              "            + ' to learn more about interactive tables.';\n",
              "          element.innerHTML = '';\n",
              "          dataTable['output_type'] = 'display_data';\n",
              "          await google.colab.output.renderOutput(dataTable, element);\n",
              "          const docLink = document.createElement('div');\n",
              "          docLink.innerHTML = docLinkHtml;\n",
              "          element.appendChild(docLink);\n",
              "        }\n",
              "      </script>\n",
              "    </div>\n",
              "  </div>\n",
              "  "
            ]
          },
          "metadata": {},
          "execution_count": 26
        }
      ]
    },
    {
      "cell_type": "markdown",
      "source": [
        "### plotting graph again with values "
      ],
      "metadata": {
        "id": "y296WUSvgJ-t"
      }
    },
    {
      "cell_type": "code",
      "source": [
        "ax= df.country.value_counts().head(10).plot (kind= 'bar');\n",
        "for p in ax.patches:\n",
        "    ax.annotate(str(p.get_height()), (p.get_x() * 1.005, p.get_height() * 1.005))"
      ],
      "metadata": {
        "colab": {
          "base_uri": "https://localhost:8080/",
          "height": 453
        },
        "id": "G8FW-R7TgKry",
        "outputId": "0308eebd-6991-46fa-bf8c-8c685dbbf6f4"
      },
      "execution_count": null,
      "outputs": [
        {
          "output_type": "display_data",
          "data": {
            "text/plain": [
              "<Figure size 792x504 with 1 Axes>"
            ],
            "image/png": "[encoded data removed]"
          },
          "metadata": {
            "needs_background": "light"
          }
        }
      ]
    },
    {
      "cell_type": "markdown",
      "source": [
        "### Visualizing_by_plotting_graph"
      ],
      "metadata": {
        "id": "Fvzy_Y-u9vxy"
      }
    },
    {
      "cell_type": "code",
      "source": [
        "# Visualizing by  plotting the graph\n",
        "plt.figure(figsize=(20,8))\n",
        "sns.barplot(x=country_list['country'],y=country_list['count'])\n",
        "plt.xlabel('Country')\n",
        "plt.ylabel('Number of guests',fontsize=12)\n",
        "plt.title(\"Number of guests from diffrent Countries\")"
      ],
      "metadata": {
        "colab": {
          "base_uri": "https://localhost:8080/",
          "height": 530
        },
        "id": "7rmbjTVg9nq6",
        "outputId": "7b1907aa-b29f-4d88-ab12-9abddd42fe76"
      },
      "execution_count": null,
      "outputs": [
        {
          "output_type": "execute_result",
          "data": {
            "text/plain": [
              "Text(0.5, 1.0, 'Number of guests from diffrent Countries')"
            ]
          },
          "metadata": {},
          "execution_count": 99
        },
        {
          "output_type": "display_data",
          "data": {
            "text/plain": [
              "<Figure size 1440x576 with 1 Axes>"
            ],
            "image/png": "[encoded data removed]"
          },
          "metadata": {
            "needs_background": "light"
          }
        }
      ]
    },
    {
      "cell_type": "markdown",
      "source": [
        "Form the above graph it is clearly showing that high number of booking happen in Portugal, Great Britain, France, Spain etc country. \n",
        "It show that as compare to any country Portugal has the highest booking number(48590). More than four times as compare to 2nd highest Great Britain(12129).\n"
      ],
      "metadata": {
        "id": "YXcewcEP4CBt"
      }
    },
    {
      "cell_type": "markdown",
      "source": [
        "# 3) Map wise room booking density graph"
      ],
      "metadata": {
        "id": "rqRu10kzGnCJ"
      }
    },
    {
      "cell_type": "code",
      "source": [
        "import folium                               \n",
        "import plotly.express as px\n",
        "# searched on google \n",
        "plt.figure(figsize = (18,12))\n",
        "basemap = folium.Map()\n",
        "guests_map = px.choropleth(country_list, locations = country_list['country'],color = country_list['count'], hover_name = country_list['country'])\n",
        "guests_map.show()"
      ],
      "metadata": {
        "id": "GFsze17RGHEv",
        "colab": {
          "base_uri": "https://localhost:8080/",
          "height": 559
        },
        "outputId": "32dd2e17-5f2a-483a-9e3d-5b838b765988"
      },
      "execution_count": null,
      "outputs": [
        {
          "output_type": "display_data",
          "data": {
            "text/html": [
              "<html>\n",
              "<head><meta charset=\"utf-8\" /></head>\n",
              "<body>\n",
              "    <div>            <script src=\"https://cdnjs.cloudflare.com/ajax/libs/mathjax/2.7.5/MathJax.js?config=TeX-AMS-MML_SVG\"></script><script type=\"text/javascript\">if (window.MathJax) {MathJax.Hub.Config({SVG: {font: \"STIX-Web\"}});}</script>                <script type=\"text/javascript\">window.PlotlyConfig = {MathJaxConfig: 'local'};</script>\n",
              "        <script src=\"https://cdn.plot.ly/plotly-2.8.3.min.js\"></script>                <div id=\"a77a7491-1559-4842-9e17-8ff2c82a8be9\" class=\"plotly-graph-div\" style=\"height:525px; width:100%;\"></div>            <script type=\"text/javascript\">                                    window.PLOTLYENV=window.PLOTLYENV || {};                                    if (document.getElementById(\"a77a7491-1559-4842-9e17-8ff2c82a8be9\")) {                    Plotly.newPlot(                        \"a77a7491-1559-4842-9e17-8ff2c82a8be9\",                        [{\"coloraxis\":\"coloraxis\",\"geo\":\"geo\",\"hovertemplate\":\"<b>%{hovertext}</b><br><br>country=%{location}<br>count=%{z}<extra></extra>\",\"hovertext\":[\"PRT\",\"GBR\",\"FRA\",\"ESP\",\"DEU\",\"ITA\",\"IRL\",\"BEL\",\"BRA\",\"NLD\",\"USA\",\"CHE\",\"CN\",\"AUT\",\"SWE\",\"CHN\",\"POL\",\"ISR\",\"RUS\",\"NOR\",\"ROU\",\"FIN\",\"DNK\",\"AUS\",\"AGO\",\"LUX\",\"MAR\",\"TUR\",\"HUN\",\"ARG\",\"JPN\",\"CZE\",\"IND\",\"KOR\",\"GRC\",\"DZA\",\"SRB\",\"HRV\",\"MEX\",\"EST\",\"IRN\",\"LTU\",\"ZAF\",\"BGR\",\"NZL\",\"COL\",\"UKR\",\"MOZ\",\"SVK\",\"CHL\",\"THA\",\"ISL\",\"SVN\",\"LVA\",\"ARE\",\"TWN\",\"CYP\",\"SAU\",\"PHL\",\"TUN\",\"SGP\",\"IDN\",\"NGA\",\"URY\",\"EGY\",\"LBN\",\"HKG\",\"PER\",\"MYS\",\"ECU\",\"VEN\",\"BLR\",\"CPV\",\"GEO\",\"JOR\",\"CRI\",\"KAZ\",\"GIB\",\"OMN\",\"MLT\",\"AZE\",\"MAC\",\"KWT\",\"QAT\",\"IRQ\",\"PAK\",\"DOM\",\"BIH\",\"MDV\",\"BGD\",\"PRI\",\"ALB\",\"SEN\",\"MKD\",\"BOL\",\"CMR\",\"TJK\",\"PAN\",\"GNB\",\"CUB\",\"JEY\",\"ARM\",\"VNM\",\"LBY\",\"LKA\",\"AND\",\"MUS\",\"JAM\",\"KEN\",\"CIV\",\"TZA\",\"CAF\",\"SUR\",\"BHR\",\"FRO\",\"MNE\",\"ZWE\",\"GHA\",\"GTM\",\"UZB\",\"BRB\",\"GAB\",\"PRY\",\"MCO\",\"SYR\",\"TMP\",\"GGY\",\"ETH\",\"LIE\",\"BEN\",\"TGO\",\"RWA\",\"STP\",\"SYC\",\"UGA\",\"ZMB\",\"SLV\",\"ABW\",\"IMN\",\"MWI\",\"ATA\",\"COM\",\"GLP\",\"KNA\",\"LAO\",\"KHM\",\"MYT\",\"SLE\",\"DMA\",\"AIA\",\"ASM\",\"NPL\",\"VGB\",\"ATF\",\"BDI\",\"BFA\",\"BHS\",\"UMI\",\"BWA\",\"NIC\",\"CYM\",\"DJI\",\"FJI\",\"NCL\",\"GUY\",\"HND\",\"PLW\",\"KIR\",\"SDN\",\"NAM\",\"LCA\",\"MDG\",\"MLI\",\"MMR\",\"MRT\",\"SMR\",\"PYF\"],\"locations\":[\"PRT\",\"GBR\",\"FRA\",\"ESP\",\"DEU\",\"ITA\",\"IRL\",\"BEL\",\"BRA\",\"NLD\",\"USA\",\"CHE\",\"CN\",\"AUT\",\"SWE\",\"CHN\",\"POL\",\"ISR\",\"RUS\",\"NOR\",\"ROU\",\"FIN\",\"DNK\",\"AUS\",\"AGO\",\"LUX\",\"MAR\",\"TUR\",\"HUN\",\"ARG\",\"JPN\",\"CZE\",\"IND\",\"KOR\",\"GRC\",\"DZA\",\"SRB\",\"HRV\",\"MEX\",\"EST\",\"IRN\",\"LTU\",\"ZAF\",\"BGR\",\"NZL\",\"COL\",\"UKR\",\"MOZ\",\"SVK\",\"CHL\",\"THA\",\"ISL\",\"SVN\",\"LVA\",\"ARE\",\"TWN\",\"CYP\",\"SAU\",\"PHL\",\"TUN\",\"SGP\",\"IDN\",\"NGA\",\"URY\",\"EGY\",\"LBN\",\"HKG\",\"PER\",\"MYS\",\"ECU\",\"VEN\",\"BLR\",\"CPV\",\"GEO\",\"JOR\",\"CRI\",\"KAZ\",\"GIB\",\"OMN\",\"MLT\",\"AZE\",\"MAC\",\"KWT\",\"QAT\",\"IRQ\",\"PAK\",\"DOM\",\"BIH\",\"MDV\",\"BGD\",\"PRI\",\"ALB\",\"SEN\",\"MKD\",\"BOL\",\"CMR\",\"TJK\",\"PAN\",\"GNB\",\"CUB\",\"JEY\",\"ARM\",\"VNM\",\"LBY\",\"LKA\",\"AND\",\"MUS\",\"JAM\",\"KEN\",\"CIV\",\"TZA\",\"CAF\",\"SUR\",\"BHR\",\"FRO\",\"MNE\",\"ZWE\",\"GHA\",\"GTM\",\"UZB\",\"BRB\",\"GAB\",\"PRY\",\"MCO\",\"SYR\",\"TMP\",\"GGY\",\"ETH\",\"LIE\",\"BEN\",\"TGO\",\"RWA\",\"STP\",\"SYC\",\"UGA\",\"ZMB\",\"SLV\",\"ABW\",\"IMN\",\"MWI\",\"ATA\",\"COM\",\"GLP\",\"KNA\",\"LAO\",\"KHM\",\"MYT\",\"SLE\",\"DMA\",\"AIA\",\"ASM\",\"NPL\",\"VGB\",\"ATF\",\"BDI\",\"BFA\",\"BHS\",\"UMI\",\"BWA\",\"NIC\",\"CYM\",\"DJI\",\"FJI\",\"NCL\",\"GUY\",\"HND\",\"PLW\",\"KIR\",\"SDN\",\"NAM\",\"LCA\",\"MDG\",\"MLI\",\"MMR\",\"MRT\",\"SMR\",\"PYF\"],\"name\":\"\",\"z\":[48590,12129,10415,8568,7287,3766,3375,2342,2224,2104,2097,1730,1279,1263,1024,999,919,669,632,607,500,447,435,426,362,287,259,248,230,214,197,171,152,133,128,103,101,100,85,83,83,81,80,75,74,71,68,67,65,65,59,57,57,55,51,51,51,48,40,39,39,35,34,32,32,31,29,29,28,27,26,26,24,22,21,19,19,18,18,18,17,16,16,15,14,14,14,13,12,12,12,12,11,10,10,10,9,9,9,8,8,8,8,8,7,7,7,6,6,6,5,5,5,5,5,5,4,4,4,4,4,4,4,4,3,3,3,3,3,3,2,2,2,2,2,2,2,2,2,2,2,2,2,2,2,2,2,1,1,1,1,1,1,1,1,1,1,1,1,1,1,1,1,1,1,1,1,1,1,1,1,1,1,1,1,1,1],\"type\":\"choropleth\"}],                        {\"template\":{\"data\":{\"bar\":[{\"error_x\":{\"color\":\"#2a3f5f\"},\"error_y\":{\"color\":\"#2a3f5f\"},\"marker\":{\"line\":{\"color\":\"#E5ECF6\",\"width\":0.5},\"pattern\":{\"fillmode\":\"overlay\",\"size\":10,\"solidity\":0.2}},\"type\":\"bar\"}],\"barpolar\":[{\"marker\":{\"line\":{\"color\":\"#E5ECF6\",\"width\":0.5},\"pattern\":{\"fillmode\":\"overlay\",\"size\":10,\"solidity\":0.2}},\"type\":\"barpolar\"}],\"carpet\":[{\"aaxis\":{\"endlinecolor\":\"#2a3f5f\",\"gridcolor\":\"white\",\"linecolor\":\"white\",\"minorgridcolor\":\"white\",\"startlinecolor\":\"#2a3f5f\"},\"baxis\":{\"endlinecolor\":\"#2a3f5f\",\"gridcolor\":\"white\",\"linecolor\":\"white\",\"minorgridcolor\":\"white\",\"startlinecolor\":\"#2a3f5f\"},\"type\":\"carpet\"}],\"choropleth\":[{\"colorbar\":{\"outlinewidth\":0,\"ticks\":\"\"},\"type\":\"choropleth\"}],\"contour\":[{\"colorbar\":{\"outlinewidth\":0,\"ticks\":\"\"},\"colorscale\":[[0.0,\"#0d0887\"],[0.1111111111111111,\"#46039f\"],[0.2222222222222222,\"#7201a8\"],[0.3333333333333333,\"#9c179e\"],[0.4444444444444444,\"#bd3786\"],[0.5555555555555556,\"#d8576b\"],[0.6666666666666666,\"#ed7953\"],[0.7777777777777778,\"#fb9f3a\"],[0.8888888888888888,\"#fdca26\"],[1.0,\"#f0f921\"]],\"type\":\"contour\"}],\"contourcarpet\":[{\"colorbar\":{\"outlinewidth\":0,\"ticks\":\"\"},\"type\":\"contourcarpet\"}],\"heatmap\":[{\"colorbar\":{\"outlinewidth\":0,\"ticks\":\"\"},\"colorscale\":[[0.0,\"#0d0887\"],[0.1111111111111111,\"#46039f\"],[0.2222222222222222,\"#7201a8\"],[0.3333333333333333,\"#9c179e\"],[0.4444444444444444,\"#bd3786\"],[0.5555555555555556,\"#d8576b\"],[0.6666666666666666,\"#ed7953\"],[0.7777777777777778,\"#fb9f3a\"],[0.8888888888888888,\"#fdca26\"],[1.0,\"#f0f921\"]],\"type\":\"heatmap\"}],\"heatmapgl\":[{\"colorbar\":{\"outlinewidth\":0,\"ticks\":\"\"},\"colorscale\":[[0.0,\"#0d0887\"],[0.1111111111111111,\"#46039f\"],[0.2222222222222222,\"#7201a8\"],[0.3333333333333333,\"#9c179e\"],[0.4444444444444444,\"#bd3786\"],[0.5555555555555556,\"#d8576b\"],[0.6666666666666666,\"#ed7953\"],[0.7777777777777778,\"#fb9f3a\"],[0.8888888888888888,\"#fdca26\"],[1.0,\"#f0f921\"]],\"type\":\"heatmapgl\"}],\"histogram\":[{\"marker\":{\"pattern\":{\"fillmode\":\"overlay\",\"size\":10,\"solidity\":0.2}},\"type\":\"histogram\"}],\"histogram2d\":[{\"colorbar\":{\"outlinewidth\":0,\"ticks\":\"\"},\"colorscale\":[[0.0,\"#0d0887\"],[0.1111111111111111,\"#46039f\"],[0.2222222222222222,\"#7201a8\"],[0.3333333333333333,\"#9c179e\"],[0.4444444444444444,\"#bd3786\"],[0.5555555555555556,\"#d8576b\"],[0.6666666666666666,\"#ed7953\"],[0.7777777777777778,\"#fb9f3a\"],[0.8888888888888888,\"#fdca26\"],[1.0,\"#f0f921\"]],\"type\":\"histogram2d\"}],\"histogram2dcontour\":[{\"colorbar\":{\"outlinewidth\":0,\"ticks\":\"\"},\"colorscale\":[[0.0,\"#0d0887\"],[0.1111111111111111,\"#46039f\"],[0.2222222222222222,\"#7201a8\"],[0.3333333333333333,\"#9c179e\"],[0.4444444444444444,\"#bd3786\"],[0.5555555555555556,\"#d8576b\"],[0.6666666666666666,\"#ed7953\"],[0.7777777777777778,\"#fb9f3a\"],[0.8888888888888888,\"#fdca26\"],[1.0,\"#f0f921\"]],\"type\":\"histogram2dcontour\"}],\"mesh3d\":[{\"colorbar\":{\"outlinewidth\":0,\"ticks\":\"\"},\"type\":\"mesh3d\"}],\"parcoords\":[{\"line\":{\"colorbar\":{\"outlinewidth\":0,\"ticks\":\"\"}},\"type\":\"parcoords\"}],\"pie\":[{\"automargin\":true,\"type\":\"pie\"}],\"scatter\":[{\"marker\":{\"colorbar\":{\"outlinewidth\":0,\"ticks\":\"\"}},\"type\":\"scatter\"}],\"scatter3d\":[{\"line\":{\"colorbar\":{\"outlinewidth\":0,\"ticks\":\"\"}},\"marker\":{\"colorbar\":{\"outlinewidth\":0,\"ticks\":\"\"}},\"type\":\"scatter3d\"}],\"scattercarpet\":[{\"marker\":{\"colorbar\":{\"outlinewidth\":0,\"ticks\":\"\"}},\"type\":\"scattercarpet\"}],\"scattergeo\":[{\"marker\":{\"colorbar\":{\"outlinewidth\":0,\"ticks\":\"\"}},\"type\":\"scattergeo\"}],\"scattergl\":[{\"marker\":{\"colorbar\":{\"outlinewidth\":0,\"ticks\":\"\"}},\"type\":\"scattergl\"}],\"scattermapbox\":[{\"marker\":{\"colorbar\":{\"outlinewidth\":0,\"ticks\":\"\"}},\"type\":\"scattermapbox\"}],\"scatterpolar\":[{\"marker\":{\"colorbar\":{\"outlinewidth\":0,\"ticks\":\"\"}},\"type\":\"scatterpolar\"}],\"scatterpolargl\":[{\"marker\":{\"colorbar\":{\"outlinewidth\":0,\"ticks\":\"\"}},\"type\":\"scatterpolargl\"}],\"scatterternary\":[{\"marker\":{\"colorbar\":{\"outlinewidth\":0,\"ticks\":\"\"}},\"type\":\"scatterternary\"}],\"surface\":[{\"colorbar\":{\"outlinewidth\":0,\"ticks\":\"\"},\"colorscale\":[[0.0,\"#0d0887\"],[0.1111111111111111,\"#46039f\"],[0.2222222222222222,\"#7201a8\"],[0.3333333333333333,\"#9c179e\"],[0.4444444444444444,\"#bd3786\"],[0.5555555555555556,\"#d8576b\"],[0.6666666666666666,\"#ed7953\"],[0.7777777777777778,\"#fb9f3a\"],[0.8888888888888888,\"#fdca26\"],[1.0,\"#f0f921\"]],\"type\":\"surface\"}],\"table\":[{\"cells\":{\"fill\":{\"color\":\"#EBF0F8\"},\"line\":{\"color\":\"white\"}},\"header\":{\"fill\":{\"color\":\"#C8D4E3\"},\"line\":{\"color\":\"white\"}},\"type\":\"table\"}]},\"layout\":{\"annotationdefaults\":{\"arrowcolor\":\"#2a3f5f\",\"arrowhead\":0,\"arrowwidth\":1},\"autotypenumbers\":\"strict\",\"coloraxis\":{\"colorbar\":{\"outlinewidth\":0,\"ticks\":\"\"}},\"colorscale\":{\"diverging\":[[0,\"#8e0152\"],[0.1,\"#c51b7d\"],[0.2,\"#de77ae\"],[0.3,\"#f1b6da\"],[0.4,\"#fde0ef\"],[0.5,\"#f7f7f7\"],[0.6,\"#e6f5d0\"],[0.7,\"#b8e186\"],[0.8,\"#7fbc41\"],[0.9,\"#4d9221\"],[1,\"#276419\"]],\"sequential\":[[0.0,\"#0d0887\"],[0.1111111111111111,\"#46039f\"],[0.2222222222222222,\"#7201a8\"],[0.3333333333333333,\"#9c179e\"],[0.4444444444444444,\"#bd3786\"],[0.5555555555555556,\"#d8576b\"],[0.6666666666666666,\"#ed7953\"],[0.7777777777777778,\"#fb9f3a\"],[0.8888888888888888,\"#fdca26\"],[1.0,\"#f0f921\"]],\"sequentialminus\":[[0.0,\"#0d0887\"],[0.1111111111111111,\"#46039f\"],[0.2222222222222222,\"#7201a8\"],[0.3333333333333333,\"#9c179e\"],[0.4444444444444444,\"#bd3786\"],[0.5555555555555556,\"#d8576b\"],[0.6666666666666666,\"#ed7953\"],[0.7777777777777778,\"#fb9f3a\"],[0.8888888888888888,\"#fdca26\"],[1.0,\"#f0f921\"]]},\"colorway\":[\"#636efa\",\"#EF553B\",\"#00cc96\",\"#ab63fa\",\"#FFA15A\",\"#19d3f3\",\"#FF6692\",\"#B6E880\",\"#FF97FF\",\"#FECB52\"],\"font\":{\"color\":\"#2a3f5f\"},\"geo\":{\"bgcolor\":\"white\",\"lakecolor\":\"white\",\"landcolor\":\"#E5ECF6\",\"showlakes\":true,\"showland\":true,\"subunitcolor\":\"white\"},\"hoverlabel\":{\"align\":\"left\"},\"hovermode\":\"closest\",\"mapbox\":{\"style\":\"light\"},\"paper_bgcolor\":\"white\",\"plot_bgcolor\":\"#E5ECF6\",\"polar\":{\"angularaxis\":{\"gridcolor\":\"white\",\"linecolor\":\"white\",\"ticks\":\"\"},\"bgcolor\":\"#E5ECF6\",\"radialaxis\":{\"gridcolor\":\"white\",\"linecolor\":\"white\",\"ticks\":\"\"}},\"scene\":{\"xaxis\":{\"backgroundcolor\":\"#E5ECF6\",\"gridcolor\":\"white\",\"gridwidth\":2,\"linecolor\":\"white\",\"showbackground\":true,\"ticks\":\"\",\"zerolinecolor\":\"white\"},\"yaxis\":{\"backgroundcolor\":\"#E5ECF6\",\"gridcolor\":\"white\",\"gridwidth\":2,\"linecolor\":\"white\",\"showbackground\":true,\"ticks\":\"\",\"zerolinecolor\":\"white\"},\"zaxis\":{\"backgroundcolor\":\"#E5ECF6\",\"gridcolor\":\"white\",\"gridwidth\":2,\"linecolor\":\"white\",\"showbackground\":true,\"ticks\":\"\",\"zerolinecolor\":\"white\"}},\"shapedefaults\":{\"line\":{\"color\":\"#2a3f5f\"}},\"ternary\":{\"aaxis\":{\"gridcolor\":\"white\",\"linecolor\":\"white\",\"ticks\":\"\"},\"baxis\":{\"gridcolor\":\"white\",\"linecolor\":\"white\",\"ticks\":\"\"},\"bgcolor\":\"#E5ECF6\",\"caxis\":{\"gridcolor\":\"white\",\"linecolor\":\"white\",\"ticks\":\"\"}},\"title\":{\"x\":0.05},\"xaxis\":{\"automargin\":true,\"gridcolor\":\"white\",\"linecolor\":\"white\",\"ticks\":\"\",\"title\":{\"standoff\":15},\"zerolinecolor\":\"white\",\"zerolinewidth\":2},\"yaxis\":{\"automargin\":true,\"gridcolor\":\"white\",\"linecolor\":\"white\",\"ticks\":\"\",\"title\":{\"standoff\":15},\"zerolinecolor\":\"white\",\"zerolinewidth\":2}}},\"geo\":{\"domain\":{\"x\":[0.0,1.0],\"y\":[0.0,1.0]},\"center\":{}},\"coloraxis\":{\"colorbar\":{\"title\":{\"text\":\"count\"}},\"colorscale\":[[0.0,\"#0d0887\"],[0.1111111111111111,\"#46039f\"],[0.2222222222222222,\"#7201a8\"],[0.3333333333333333,\"#9c179e\"],[0.4444444444444444,\"#bd3786\"],[0.5555555555555556,\"#d8576b\"],[0.6666666666666666,\"#ed7953\"],[0.7777777777777778,\"#fb9f3a\"],[0.8888888888888888,\"#fdca26\"],[1.0,\"#f0f921\"]]},\"legend\":{\"tracegroupgap\":0},\"margin\":{\"t\":60}},                        {\"responsive\": true}                    ).then(function(){\n",
              "                            \n",
              "var gd = document.getElementById('a77a7491-1559-4842-9e17-8ff2c82a8be9');\n",
              "var x = new MutationObserver(function (mutations, observer) {{\n",
              "        var display = window.getComputedStyle(gd).display;\n",
              "        if (!display || display === 'none') {{\n",
              "            console.log([gd, 'removed!']);\n",
              "            Plotly.purge(gd);\n",
              "            observer.disconnect();\n",
              "        }}\n",
              "}});\n",
              "\n",
              "// Listen for the removal of the full notebook cells\n",
              "var notebookContainer = gd.closest('#notebook-container');\n",
              "if (notebookContainer) {{\n",
              "    x.observe(notebookContainer, {childList: true});\n",
              "}}\n",
              "\n",
              "// Listen for the clearing of the current output cell\n",
              "var outputEl = gd.closest('.output');\n",
              "if (outputEl) {{\n",
              "    x.observe(outputEl, {childList: true});\n",
              "}}\n",
              "\n",
              "                        })                };                            </script>        </div>\n",
              "</body>\n",
              "</html>"
            ]
          },
          "metadata": {}
        },
        {
          "output_type": "display_data",
          "data": {
            "text/plain": [
              "<Figure size 1296x864 with 0 Axes>"
            ]
          },
          "metadata": {}
        }
      ]
    },
    {
      "cell_type": "markdown",
      "source": [
        "Map wise room booking density in World.\n",
        "Form the above map it is clearly showing that high number of booking happen in Westen Europe country. "
      ],
      "metadata": {
        "id": "rixJrG0DNLdm"
      }
    },
    {
      "cell_type": "markdown",
      "source": [
        "# 4) Which type of Hotel has highest number of booking?"
      ],
      "metadata": {
        "id": "z4JOAmVO1Ki-"
      }
    },
    {
      "cell_type": "code",
      "source": [
        "# return highest bookings made in a year\n",
        "Hotel_list= df_copy.groupby(['hotel'])['hotel'].agg({'count'}).reset_index().rename(columns={'index': \"Serial\" }).sort_values(by='count',ascending=False)\n",
        "# country_list.drop(country_list[country_list['country']==0].index,inplace=True) \n",
        "# country_list=country_list[:20]\n",
        "print(Hotel_list)"
      ],
      "metadata": {
        "id": "4QzrLnLxf3uE",
        "colab": {
          "base_uri": "https://localhost:8080/"
        },
        "outputId": "e594984d-9aed-4622-c4ae-1658e92adff2"
      },
      "execution_count": null,
      "outputs": [
        {
          "output_type": "stream",
          "name": "stdout",
          "text": [
            "          hotel  count\n",
            "0    City Hotel  79330\n",
            "1  Resort Hotel  40060\n"
          ]
        }
      ]
    },
    {
      "cell_type": "markdown",
      "source": [
        "### Visualizing_by_plotting_graph"
      ],
      "metadata": {
        "id": "bH8qcPsIk0Ln"
      }
    },
    {
      "cell_type": "code",
      "source": [
        "\n",
        "# Visualizing by  plotting the graph\n",
        "plt.figure(figsize=(6,10))\n",
        "sns.barplot(x=Hotel_list['hotel'],y=Hotel_list['count'])\n",
        "plt.xlabel('hotel')\n",
        "plt.ylabel('Number of guests',fontsize=12)\n",
        "plt.title(\"Hotel types with number of booking\")"
      ],
      "metadata": {
        "id": "w6PGnNwNh7H1",
        "colab": {
          "base_uri": "https://localhost:8080/",
          "height": 638
        },
        "outputId": "5d486bc0-1226-429f-b27b-b9c939f9556e"
      },
      "execution_count": null,
      "outputs": [
        {
          "output_type": "execute_result",
          "data": {
            "text/plain": [
              "Text(0.5, 1.0, 'Hotel types with number of booking')"
            ]
          },
          "metadata": {},
          "execution_count": 18
        },
        {
          "output_type": "display_data",
          "data": {
            "text/plain": [
              "<Figure size 432x720 with 1 Axes>"
            ],
            "image/png": "[encoded data removed]"
          },
          "metadata": {
            "needs_background": "light"
          }
        }
      ]
    },
    {
      "cell_type": "markdown",
      "source": [
        "Our Data frame has 2 types of hotel data is present, so from the give data we can do a analysis on highest number of booking in which type of hotel.\n",
        "This graph represent two type of hotel type like City Hotel and Resort Hotel.\n",
        "Here we can clearly get an idea that Number of guests in City Hotel are more as compare to Resort Hotel\t\n"
      ],
      "metadata": {
        "id": "5QsVytpaVtp5"
      }
    },
    {
      "cell_type": "markdown",
      "source": [
        "# 5. Which room type booked in highest Number?\n"
      ],
      "metadata": {
        "id": "WHuJ_kmgqD-s"
      }
    },
    {
      "cell_type": "code",
      "source": [
        "# return highest bookings made in a year\n",
        "bookings_room= df_copy.groupby(['reserved_room_type'])['reserved_room_type'].agg({'count'}).reset_index().rename(columns={'count': \"No_of_Bookings\" })\n",
        "# bookings made in a year\n",
        "booking_room_type=bookings_room[:]\n",
        "booking_room_type\n",
        "\n"
      ],
      "metadata": {
        "id": "XkCITQOEch8P",
        "colab": {
          "base_uri": "https://localhost:8080/",
          "height": 363
        },
        "outputId": "6fa0c604-082d-448e-a3a6-fb8409a31514"
      },
      "execution_count": null,
      "outputs": [
        {
          "output_type": "execute_result",
          "data": {
            "text/plain": [
              "  reserved_room_type  No_of_Bookings\n",
              "0                  A           85994\n",
              "1                  B            1118\n",
              "2                  C             932\n",
              "3                  D           19201\n",
              "4                  E            6535\n",
              "5                  F            2897\n",
              "6                  G            2094\n",
              "7                  H             601\n",
              "8                  L               6\n",
              "9                  P              12"
            ],
            "text/html": [
              "\n",
              "  <div id=\"df-6aa1b0ce-a703-4d2f-8501-44b8ae1f90b8\">\n",
              "    <div class=\"colab-df-container\">\n",
              "      <div>\n",
              "<style scoped>\n",
              "    .dataframe tbody tr th:only-of-type {\n",
              "        vertical-align: middle;\n",
              "    }\n",
              "\n",
              "    .dataframe tbody tr th {\n",
              "        vertical-align: top;\n",
              "    }\n",
              "\n",
              "    .dataframe thead th {\n",
              "        text-align: right;\n",
              "    }\n",
              "</style>\n",
              "<table border=\"1\" class=\"dataframe\">\n",
              "  <thead>\n",
              "    <tr style=\"text-align: right;\">\n",
              "      <th></th>\n",
              "      <th>reserved_room_type</th>\n",
              "      <th>No_of_Bookings</th>\n",
              "    </tr>\n",
              "  </thead>\n",
              "  <tbody>\n",
              "    <tr>\n",
              "      <th>0</th>\n",
              "      <td>A</td>\n",
              "      <td>85994</td>\n",
              "    </tr>\n",
              "    <tr>\n",
              "      <th>1</th>\n",
              "      <td>B</td>\n",
              "      <td>1118</td>\n",
              "    </tr>\n",
              "    <tr>\n",
              "      <th>2</th>\n",
              "      <td>C</td>\n",
              "      <td>932</td>\n",
              "    </tr>\n",
              "    <tr>\n",
              "      <th>3</th>\n",
              "      <td>D</td>\n",
              "      <td>19201</td>\n",
              "    </tr>\n",
              "    <tr>\n",
              "      <th>4</th>\n",
              "      <td>E</td>\n",
              "      <td>6535</td>\n",
              "    </tr>\n",
              "    <tr>\n",
              "      <th>5</th>\n",
              "      <td>F</td>\n",
              "      <td>2897</td>\n",
              "    </tr>\n",
              "    <tr>\n",
              "      <th>6</th>\n",
              "      <td>G</td>\n",
              "      <td>2094</td>\n",
              "    </tr>\n",
              "    <tr>\n",
              "      <th>7</th>\n",
              "      <td>H</td>\n",
              "      <td>601</td>\n",
              "    </tr>\n",
              "    <tr>\n",
              "      <th>8</th>\n",
              "      <td>L</td>\n",
              "      <td>6</td>\n",
              "    </tr>\n",
              "    <tr>\n",
              "      <th>9</th>\n",
              "      <td>P</td>\n",
              "      <td>12</td>\n",
              "    </tr>\n",
              "  </tbody>\n",
              "</table>\n",
              "</div>\n",
              "      <button class=\"colab-df-convert\" onclick=\"convertToInteractive('df-6aa1b0ce-a703-4d2f-8501-44b8ae1f90b8')\"\n",
              "              title=\"Convert this dataframe to an interactive table.\"\n",
              "              style=\"display:none;\">\n",
              "        \n",
              "  <svg xmlns=\"http://www.w3.org/2000/svg\" height=\"24px\"viewBox=\"0 0 24 24\"\n",
              "       width=\"24px\">\n",
              "    <path d=\"M0 0h24v24H0V0z\" fill=\"none\"/>\n",
              "    <path d=\"M18.56 5.44l.94 2.06.94-2.06 2.06-.94-2.06-.94-.94-2.06-.94 2.06-2.06.94zm-11 1L8.5 8.5l.94-2.06 2.06-.94-2.06-.94L8.5 2.5l-.94 2.06-2.06.94zm10 10l.94 2.06.94-2.06 2.06-.94-2.06-.94-.94-2.06-.94 2.06-2.06.94z\"/><path d=\"M17.41 7.96l-1.37-1.37c-.4-.4-.92-.59-1.43-.59-.52 0-1.04.2-1.43.59L10.3 9.45l-7.72 7.72c-.78.78-.78 2.05 0 2.83L4 21.41c.39.39.9.59 1.41.59.51 0 1.02-.2 1.41-.59l7.78-7.78 2.81-2.81c.8-.78.8-2.07 0-2.86zM5.41 20L4 18.59l7.72-7.72 1.47 1.35L5.41 20z\"/>\n",
              "  </svg>\n",
              "      </button>\n",
              "      \n",
              "  <style>\n",
              "    .colab-df-container {\n",
              "      display:flex;\n",
              "      flex-wrap:wrap;\n",
              "      gap: 12px;\n",
              "    }\n",
              "\n",
              "    .colab-df-convert {\n",
              "      background-color: #E8F0FE;\n",
              "      border: none;\n",
              "      border-radius: 50%;\n",
              "      cursor: pointer;\n",
              "      display: none;\n",
              "      fill: #1967D2;\n",
              "      height: 32px;\n",
              "      padding: 0 0 0 0;\n",
              "      width: 32px;\n",
              "    }\n",
              "\n",
              "    .colab-df-convert:hover {\n",
              "      background-color: #E2EBFA;\n",
              "      box-shadow: 0px 1px 2px rgba(60, 64, 67, 0.3), 0px 1px 3px 1px rgba(60, 64, 67, 0.15);\n",
              "      fill: #174EA6;\n",
              "    }\n",
              "\n",
              "    [theme=dark] .colab-df-convert {\n",
              "      background-color: #3B4455;\n",
              "      fill: #D2E3FC;\n",
              "    }\n",
              "\n",
              "    [theme=dark] .colab-df-convert:hover {\n",
              "      background-color: #434B5C;\n",
              "      box-shadow: 0px 1px 3px 1px rgba(0, 0, 0, 0.15);\n",
              "      filter: drop-shadow(0px 1px 2px rgba(0, 0, 0, 0.3));\n",
              "      fill: #FFFFFF;\n",
              "    }\n",
              "  </style>\n",
              "\n",
              "      <script>\n",
              "        const buttonEl =\n",
              "          document.querySelector('#df-6aa1b0ce-a703-4d2f-8501-44b8ae1f90b8 button.colab-df-convert');\n",
              "        buttonEl.style.display =\n",
              "          google.colab.kernel.accessAllowed ? 'block' : 'none';\n",
              "\n",
              "        async function convertToInteractive(key) {\n",
              "          const element = document.querySelector('#df-6aa1b0ce-a703-4d2f-8501-44b8ae1f90b8');\n",
              "          const dataTable =\n",
              "            await google.colab.kernel.invokeFunction('convertToInteractive',\n",
              "                                                     [key], {});\n",
              "          if (!dataTable) return;\n",
              "\n",
              "          const docLinkHtml = 'Like what you see? Visit the ' +\n",
              "            '<a target=\"_blank\" href=https://colab.research.google.com/notebooks/data_table.ipynb>data table notebook</a>'\n",
              "            + ' to learn more about interactive tables.';\n",
              "          element.innerHTML = '';\n",
              "          dataTable['output_type'] = 'display_data';\n",
              "          await google.colab.output.renderOutput(dataTable, element);\n",
              "          const docLink = document.createElement('div');\n",
              "          docLink.innerHTML = docLinkHtml;\n",
              "          element.appendChild(docLink);\n",
              "        }\n",
              "      </script>\n",
              "    </div>\n",
              "  </div>\n",
              "  "
            ]
          },
          "metadata": {},
          "execution_count": 27
        }
      ]
    },
    {
      "cell_type": "markdown",
      "source": [
        "## Highest Number of room type booked in %"
      ],
      "metadata": {
        "id": "LeV1ZHPnt4tb"
      }
    },
    {
      "cell_type": "code",
      "source": [
        "booking_room_type['No_of_Bookings'].plot.pie(explode=[0.05]*10,shadow=True,autopct='%1.1f%%',figsize=(15,20),fontsize=15,labels=None)\n",
        "labels1=booking_room_type['reserved_room_type'].value_counts().index.tolist()\n",
        "labels=booking_room_type['No_of_Bookings'].value_counts().index.tolist()\n",
        "Lab3=(labels1+labels)\n",
        "plt.title('% Distribution of Customer Type')\n",
        "plt.legend(bbox_to_anchor=(0.85, 1), loc='upper left', labels=labels1)\n",
        "\n",
        "\n",
        "\n"
      ],
      "metadata": {
        "colab": {
          "base_uri": "https://localhost:8080/",
          "height": 901
        },
        "id": "KFj8IVGEhaEh",
        "outputId": "b01ef065-7096-4e68-9249-d06cf99b37a1"
      },
      "execution_count": null,
      "outputs": [
        {
          "output_type": "execute_result",
          "data": {
            "text/plain": [
              "<matplotlib.legend.Legend at 0x7f9b0cfc1f10>"
            ]
          },
          "metadata": {},
          "execution_count": 26
        },
        {
          "output_type": "display_data",
          "data": {
            "text/plain": [
              "<Figure size 1080x1440 with 1 Axes>"
            ],
            "image/png": "[encoded data removed]"
          },
          "metadata": {}
        }
      ]
    },
    {
      "cell_type": "markdown",
      "source": [
        "There are 10 types of room are present in hotels.\n",
        "Out of that most room are from type ‘A’ or type ‘D’ types.\n",
        "‘A’ type room has the highest reserved room booking type having 56552 number."
      ],
      "metadata": {
        "id": "r8uo2WX_FcoO"
      }
    },
    {
      "cell_type": "markdown",
      "source": [
        "# 6) Number of room booking by top 10 Agent"
      ],
      "metadata": {
        "id": "r3BzFb1iuLWE"
      }
    },
    {
      "cell_type": "code",
      "source": [
        "# return highest bookings made in a year\n",
        "agent_no= df_copy.groupby(['agent'])['agent'].agg({'count'}).reset_index().rename(columns={'count': \"No_of_Bookings\" }).sort_values(by='No_of_Bookings',ascending=False)\n",
        "# bookings made in a year\n",
        "booking_by_agent=agent_no.iloc[0:20].sort_values(by='agent',ascending=True)\n",
        "booking_by_agent\n",
        "\n"
      ],
      "metadata": {
        "colab": {
          "base_uri": "https://localhost:8080/",
          "height": 676
        },
        "id": "A6egE78MWZ2u",
        "outputId": "ab209e61-2f30-4e65-de1c-ddf6dbefa5d0"
      },
      "execution_count": null,
      "outputs": [
        {
          "output_type": "execute_result",
          "data": {
            "text/plain": [
              "     agent  No_of_Bookings\n",
              "0      1.0            7191\n",
              "2      3.0            1336\n",
              "5      6.0            3290\n",
              "6      7.0            3539\n",
              "7      8.0            1514\n",
              "8      9.0           31961\n",
              "13    14.0            3640\n",
              "17    19.0            1061\n",
              "19    21.0             875\n",
              "26    28.0            1666\n",
              "27    29.0             683\n",
              "35    37.0            1230\n",
              "38    40.0            1039\n",
              "72    83.0             696\n",
              "168  229.0             786\n",
              "173  240.0           13922\n",
              "174  241.0            1721\n",
              "175  242.0             780\n",
              "182  250.0            2870\n",
              "227  314.0             927"
            ],
            "text/html": [
              "\n",
              "  <div id=\"df-42cffe7d-ec54-4870-981f-54bb31314b84\">\n",
              "    <div class=\"colab-df-container\">\n",
              "      <div>\n",
              "<style scoped>\n",
              "    .dataframe tbody tr th:only-of-type {\n",
              "        vertical-align: middle;\n",
              "    }\n",
              "\n",
              "    .dataframe tbody tr th {\n",
              "        vertical-align: top;\n",
              "    }\n",
              "\n",
              "    .dataframe thead th {\n",
              "        text-align: right;\n",
              "    }\n",
              "</style>\n",
              "<table border=\"1\" class=\"dataframe\">\n",
              "  <thead>\n",
              "    <tr style=\"text-align: right;\">\n",
              "      <th></th>\n",
              "      <th>agent</th>\n",
              "      <th>No_of_Bookings</th>\n",
              "    </tr>\n",
              "  </thead>\n",
              "  <tbody>\n",
              "    <tr>\n",
              "      <th>0</th>\n",
              "      <td>1.0</td>\n",
              "      <td>7191</td>\n",
              "    </tr>\n",
              "    <tr>\n",
              "      <th>2</th>\n",
              "      <td>3.0</td>\n",
              "      <td>1336</td>\n",
              "    </tr>\n",
              "    <tr>\n",
              "      <th>5</th>\n",
              "      <td>6.0</td>\n",
              "      <td>3290</td>\n",
              "    </tr>\n",
              "    <tr>\n",
              "      <th>6</th>\n",
              "      <td>7.0</td>\n",
              "      <td>3539</td>\n",
              "    </tr>\n",
              "    <tr>\n",
              "      <th>7</th>\n",
              "      <td>8.0</td>\n",
              "      <td>1514</td>\n",
              "    </tr>\n",
              "    <tr>\n",
              "      <th>8</th>\n",
              "      <td>9.0</td>\n",
              "      <td>31961</td>\n",
              "    </tr>\n",
              "    <tr>\n",
              "      <th>13</th>\n",
              "      <td>14.0</td>\n",
              "      <td>3640</td>\n",
              "    </tr>\n",
              "    <tr>\n",
              "      <th>17</th>\n",
              "      <td>19.0</td>\n",
              "      <td>1061</td>\n",
              "    </tr>\n",
              "    <tr>\n",
              "      <th>19</th>\n",
              "      <td>21.0</td>\n",
              "      <td>875</td>\n",
              "    </tr>\n",
              "    <tr>\n",
              "      <th>26</th>\n",
              "      <td>28.0</td>\n",
              "      <td>1666</td>\n",
              "    </tr>\n",
              "    <tr>\n",
              "      <th>27</th>\n",
              "      <td>29.0</td>\n",
              "      <td>683</td>\n",
              "    </tr>\n",
              "    <tr>\n",
              "      <th>35</th>\n",
              "      <td>37.0</td>\n",
              "      <td>1230</td>\n",
              "    </tr>\n",
              "    <tr>\n",
              "      <th>38</th>\n",
              "      <td>40.0</td>\n",
              "      <td>1039</td>\n",
              "    </tr>\n",
              "    <tr>\n",
              "      <th>72</th>\n",
              "      <td>83.0</td>\n",
              "      <td>696</td>\n",
              "    </tr>\n",
              "    <tr>\n",
              "      <th>168</th>\n",
              "      <td>229.0</td>\n",
              "      <td>786</td>\n",
              "    </tr>\n",
              "    <tr>\n",
              "      <th>173</th>\n",
              "      <td>240.0</td>\n",
              "      <td>13922</td>\n",
              "    </tr>\n",
              "    <tr>\n",
              "      <th>174</th>\n",
              "      <td>241.0</td>\n",
              "      <td>1721</td>\n",
              "    </tr>\n",
              "    <tr>\n",
              "      <th>175</th>\n",
              "      <td>242.0</td>\n",
              "      <td>780</td>\n",
              "    </tr>\n",
              "    <tr>\n",
              "      <th>182</th>\n",
              "      <td>250.0</td>\n",
              "      <td>2870</td>\n",
              "    </tr>\n",
              "    <tr>\n",
              "      <th>227</th>\n",
              "      <td>314.0</td>\n",
              "      <td>927</td>\n",
              "    </tr>\n",
              "  </tbody>\n",
              "</table>\n",
              "</div>\n",
              "      <button class=\"colab-df-convert\" onclick=\"convertToInteractive('df-42cffe7d-ec54-4870-981f-54bb31314b84')\"\n",
              "              title=\"Convert this dataframe to an interactive table.\"\n",
              "              style=\"display:none;\">\n",
              "        \n",
              "  <svg xmlns=\"http://www.w3.org/2000/svg\" height=\"24px\"viewBox=\"0 0 24 24\"\n",
              "       width=\"24px\">\n",
              "    <path d=\"M0 0h24v24H0V0z\" fill=\"none\"/>\n",
              "    <path d=\"M18.56 5.44l.94 2.06.94-2.06 2.06-.94-2.06-.94-.94-2.06-.94 2.06-2.06.94zm-11 1L8.5 8.5l.94-2.06 2.06-.94-2.06-.94L8.5 2.5l-.94 2.06-2.06.94zm10 10l.94 2.06.94-2.06 2.06-.94-2.06-.94-.94-2.06-.94 2.06-2.06.94z\"/><path d=\"M17.41 7.96l-1.37-1.37c-.4-.4-.92-.59-1.43-.59-.52 0-1.04.2-1.43.59L10.3 9.45l-7.72 7.72c-.78.78-.78 2.05 0 2.83L4 21.41c.39.39.9.59 1.41.59.51 0 1.02-.2 1.41-.59l7.78-7.78 2.81-2.81c.8-.78.8-2.07 0-2.86zM5.41 20L4 18.59l7.72-7.72 1.47 1.35L5.41 20z\"/>\n",
              "  </svg>\n",
              "      </button>\n",
              "      \n",
              "  <style>\n",
              "    .colab-df-container {\n",
              "      display:flex;\n",
              "      flex-wrap:wrap;\n",
              "      gap: 12px;\n",
              "    }\n",
              "\n",
              "    .colab-df-convert {\n",
              "      background-color: #E8F0FE;\n",
              "      border: none;\n",
              "      border-radius: 50%;\n",
              "      cursor: pointer;\n",
              "      display: none;\n",
              "      fill: #1967D2;\n",
              "      height: 32px;\n",
              "      padding: 0 0 0 0;\n",
              "      width: 32px;\n",
              "    }\n",
              "\n",
              "    .colab-df-convert:hover {\n",
              "      background-color: #E2EBFA;\n",
              "      box-shadow: 0px 1px 2px rgba(60, 64, 67, 0.3), 0px 1px 3px 1px rgba(60, 64, 67, 0.15);\n",
              "      fill: #174EA6;\n",
              "    }\n",
              "\n",
              "    [theme=dark] .colab-df-convert {\n",
              "      background-color: #3B4455;\n",
              "      fill: #D2E3FC;\n",
              "    }\n",
              "\n",
              "    [theme=dark] .colab-df-convert:hover {\n",
              "      background-color: #434B5C;\n",
              "      box-shadow: 0px 1px 3px 1px rgba(0, 0, 0, 0.15);\n",
              "      filter: drop-shadow(0px 1px 2px rgba(0, 0, 0, 0.3));\n",
              "      fill: #FFFFFF;\n",
              "    }\n",
              "  </style>\n",
              "\n",
              "      <script>\n",
              "        const buttonEl =\n",
              "          document.querySelector('#df-42cffe7d-ec54-4870-981f-54bb31314b84 button.colab-df-convert');\n",
              "        buttonEl.style.display =\n",
              "          google.colab.kernel.accessAllowed ? 'block' : 'none';\n",
              "\n",
              "        async function convertToInteractive(key) {\n",
              "          const element = document.querySelector('#df-42cffe7d-ec54-4870-981f-54bb31314b84');\n",
              "          const dataTable =\n",
              "            await google.colab.kernel.invokeFunction('convertToInteractive',\n",
              "                                                     [key], {});\n",
              "          if (!dataTable) return;\n",
              "\n",
              "          const docLinkHtml = 'Like what you see? Visit the ' +\n",
              "            '<a target=\"_blank\" href=https://colab.research.google.com/notebooks/data_table.ipynb>data table notebook</a>'\n",
              "            + ' to learn more about interactive tables.';\n",
              "          element.innerHTML = '';\n",
              "          dataTable['output_type'] = 'display_data';\n",
              "          await google.colab.output.renderOutput(dataTable, element);\n",
              "          const docLink = document.createElement('div');\n",
              "          docLink.innerHTML = docLinkHtml;\n",
              "          element.appendChild(docLink);\n",
              "        }\n",
              "      </script>\n",
              "    </div>\n",
              "  </div>\n",
              "  "
            ]
          },
          "metadata": {},
          "execution_count": 40
        }
      ]
    },
    {
      "cell_type": "markdown",
      "source": [
        "In this analysis we finding top 10 agent having highest number of booking. Here in this graph, we can clearly see that mostly 3 agent have done most of the booking. \n",
        "Agent id- 9.0 have done highest number of booking.\n"
      ],
      "metadata": {
        "id": "pd4gPOEMMfOf"
      }
    },
    {
      "cell_type": "markdown",
      "source": [
        "## Visualizing by  plotting the graph"
      ],
      "metadata": {
        "id": "gDn0EHJ-a-9a"
      }
    },
    {
      "cell_type": "code",
      "source": [
        "# Visualizing by  plotting the graph\n",
        "plt.figure(figsize=(20,8))\n",
        "sns.barplot(x=booking_by_agent[\"agent\"],y=booking_by_agent['No_of_Bookings'])\n",
        "plt.xlabel('agent_code')\n",
        "plt.ylabel('Number of Room Booking',fontsize=12)\n",
        "plt.title(\"Number of Room Booking by top 10 agent\")"
      ],
      "metadata": {
        "colab": {
          "base_uri": "https://localhost:8080/",
          "height": 531
        },
        "id": "yWSB4yGla_1-",
        "outputId": "f02d4813-0d80-4a4e-fde6-3702bfa1c517"
      },
      "execution_count": null,
      "outputs": [
        {
          "output_type": "execute_result",
          "data": {
            "text/plain": [
              "Text(0.5, 1.0, 'Number of Room Booking by top 10 agent')"
            ]
          },
          "metadata": {},
          "execution_count": 15
        },
        {
          "output_type": "display_data",
          "data": {
            "text/plain": [
              "<Figure size 1440x576 with 1 Axes>"
            ],
            "image/png": "[encoded data removed]"
          },
          "metadata": {
            "needs_background": "light"
          }
        }
      ]
    },
    {
      "cell_type": "markdown",
      "source": [],
      "metadata": {
        "id": "SkasW9v7irAN"
      }
    },
    {
      "cell_type": "markdown",
      "source": [],
      "metadata": {
        "id": "aMyY6DHsdEC9"
      }
    },
    {
      "cell_type": "code",
      "source": [],
      "metadata": {
        "id": "S08nf8LCdxkm"
      },
      "execution_count": null,
      "outputs": []
    },
    {
      "cell_type": "markdown",
      "source": [
        "# 7) which room type generates highest adr?"
      ],
      "metadata": {
        "id": "ZvUWSh20IaVV"
      }
    },
    {
      "cell_type": "code",
      "source": [
        "#plot Box & ploat graph for analysis data on highest adr\n",
        "fig, axes = plt.subplots(1, 2, figsize=(10,6))\n",
        "grp_by_room = df_copy.groupby('assigned_room_type')\n",
        "sns.countplot(ax = axes[0], x = df_copy['assigned_room_type'])\n",
        "sns.boxplot(ax = axes[1], x = df_copy['assigned_room_type'], y = df_copy['adr'])\n",
        "plt.show()"
      ],
      "metadata": {
        "colab": {
          "base_uri": "https://localhost:8080/",
          "height": 389
        },
        "id": "IdwhpbwPIZKG",
        "outputId": "76d7f6a3-05c8-417e-a089-02bb4afd5b18"
      },
      "execution_count": null,
      "outputs": [
        {
          "output_type": "display_data",
          "data": {
            "text/plain": [
              "<Figure size 720x432 with 2 Axes>"
            ],
            "image/png": "[encoded data removed]"
          },
          "metadata": {
            "needs_background": "light"
          }
        }
      ]
    },
    {
      "cell_type": "markdown",
      "source": [
        "Most demanded room type is A, but better adr rooms are of type H, G and C also. Hotels should increase the no. of room types A and H to maximize revenue.\n"
      ],
      "metadata": {
        "id": "LiHP8iezMVnt"
      }
    },
    {
      "cell_type": "markdown",
      "source": [
        "# 8) Find is the most common market_segment prefer to booking hotels?"
      ],
      "metadata": {
        "id": "d-AXPncIItrM"
      }
    },
    {
      "cell_type": "code",
      "source": [
        "#most common market_segment prefer to booking hotels\n",
        "group_by_dc = df_copy.groupby('market_segment')\n",
        "market_segment = pd.DataFrame(round((group_by_dc.size()/df_copy.shape[0])*100,2)).reset_index().rename(columns = {0: 'Booking_%'})\n",
        "print(market_segment)\n",
        "#ploting pia chart for  variours market segment\n",
        "plt.figure(figsize = (18,12))\n",
        "data = market_segment['Booking_%']\n",
        "labels = market_segment['market_segment']\n",
        "plt.pie(x=data, autopct=\"%.2f%%\", explode=[0.05]*8, labels=labels, pctdistance=0.5)\n",
        "plt.title(\"Booking % through market_segment\", fontsize=14);"
      ],
      "metadata": {
        "id": "wrfX1LW2Itf6"
      },
      "execution_count": null,
      "outputs": []
    },
    {
      "cell_type": "markdown",
      "source": [
        "Market segment is well distributed between various segment.  Here in this dada analysis we can clearly say that aviation and online TA has very less share in booking hotel rooms.\n"
      ],
      "metadata": {
        "id": "RWBgeljLIYpd"
      }
    },
    {
      "cell_type": "markdown",
      "source": [],
      "metadata": {
        "id": "j3lOFLMf5g2E"
      }
    }
  ]
}